{
 "cells": [
  {
   "cell_type": "markdown",
   "metadata": {},
   "source": [
    "# Physics 226 Fall 2023: Problem Set 3:  Due Sunday Sept 17"
   ]
  },
  {
   "cell_type": "markdown",
   "metadata": {},
   "source": [
    "## Question 1: Cherenkov Imaging (10 points)"
   ]
  },
  {
   "cell_type": "markdown",
   "metadata": {},
   "source": [
    "### Learning objectives\n",
    "In this question you will:\n",
    "\n",
    "- Review the expression that determines when Cherenkov light is emitted and how the angle of the Cherenkov cone is related to a particle's speed and the index of refraction of the medium\n",
    "- Apply the concepts of resolution and of confidence level to the case of a Cherenkov detector"
   ]
  },
  {
   "cell_type": "markdown",
   "metadata": {},
   "source": [
    "In BaBar, the DIRC detector identifies charged    particles (eg distinguishes $\\pi^\\pm$ from $K^\\pm$)  by reconstructing Cherenkov rings produced in a thin quartz bar. The index of refraction of quartz is n = 1.2. "
   ]
  },
  {
   "cell_type": "markdown",
   "metadata": {},
   "source": [
    "### 1a. "
   ]
  },
  {
   "cell_type": "markdown",
   "metadata": {},
   "source": [
    "What is the momentum below which $K^+$  do not produce Cherenkov light?"
   ]
  },
  {
   "cell_type": "markdown",
   "metadata": {},
   "source": [
    "Write your answer here"
   ]
  },
  {
   "cell_type": "markdown",
   "metadata": {},
   "source": [
    "### 1b"
   ]
  },
  {
   "cell_type": "markdown",
   "metadata": {},
   "source": [
    "A charged particle is observed to have a momentum of 2.5 GeV.  What are the predicted angles of the Cherenkov cone produced if the particle is a $\\pi^\\pm$ and if it is a $K^\\pm$?"
   ]
  },
  {
   "cell_type": "markdown",
   "metadata": {},
   "source": [
    "Write your answer here"
   ]
  },
  {
   "cell_type": "markdown",
   "metadata": {},
   "source": [
    "### 1c"
   ]
  },
  {
   "cell_type": "markdown",
   "metadata": {},
   "source": [
    "The angular resolution for the Cherenkov cone of the DIRC detector is approximately $\\sigma(\\theta_c ) = 2.5$~mrad.  This means that the measured Cherenkov angle  distributed about the true value such that\n",
    "$$\n",
    "    \\theta_c^{meas} - \\theta_c^{true} \\;\\; = \\;\\;  \\frac{1}{\\sigma_c \\sqrt{2\\pi}} \\exp \\left [-\\frac{1}{2\\sigma^2} \\right ]\n",
    "$$\n",
    "\n",
    "As the charged particle momentum increases, the Cherenkov angles for $\\pi^\\pm$ and $K^\\pm$ of the same momentum converge towards the same value.  The largest momentum for which the two hypothesis can be distinguished depends on $\\sigma_c$. Scientists use the term confidence level to describe how well we can tell two hypothesis apart  A 90\\%\\ confidence level separation means that it we start with equal populations in the two possibilities, we will choose the wrong hypothesis 10\\%\\ of the time. See, for example, the PDG review of statistics Figure 40.4 and Table 40.1.  From that table, you learn that a 90\\%\\ confidence level separation corresponds to  $1.64 \\sigma$ for a two-sided cut. Here, however, we are doing something slightly different.  If we have two Gaussians where one is centered at $\\theta=0$ and the other is centered at $\\theta=n\\sigma$ then the natural way to assign particles by species is to say all the measurements with $\\theta>n\\sigma/2$ belong to the Gaussian centered at $\\theta=n\\sigma$ and the others belong to the Gaussian centered at $\\theta=0$.  The probability of getting the wrong assignment with this strategty is called a one-sided confidence limit.  In our case, we must ask that $10\\% $ of the events be in one tail (so\n",
    "$20\\% $ in both tails).  That corresponds to having the distance be 1.28$\\sigma$ from each peak, or 2.56 $\\sigma$\n",
    "between the peaks, as shown here:"
   ]
  },
  {
   "cell_type": "markdown",
   "metadata": {},
   "source": [
    "<img src=\"tofCL.png\" alt=\"Drawing\" style=\"width: 600px;\"/>"
   ]
  },
  {
   "cell_type": "markdown",
   "metadata": {},
   "source": [
    "Here, the hatched regions correspond to the cases where the species are misidentified.\n",
    "\n",
    "Using this definition of confidence level, what is the maximum momentum for which  $\\pi^+$ and $K^+$ can be separated at the 90\\%\\ confidence level in the BaBar DIRC?"
   ]
  },
  {
   "cell_type": "markdown",
   "metadata": {},
   "source": [
    "## Question 2: Central Limit Theorem (25 points)"
   ]
  },
  {
   "cell_type": "markdown",
   "metadata": {},
   "source": [
    "### Learning objectives\n",
    "In this question you will:\n",
    "\n",
    "- See that you can use $\\sigma$ as a measure of resolution even for distributions that are not Gaussian\n",
    "- Learn how to write a simple Monte Carlo and use it to reproduce an analytical result\n"
   ]
  },
  {
   "cell_type": "markdown",
   "metadata": {
    "flags": [
     "problems",
     "solutions"
    ]
   },
   "source": [
    "The [*Central Limit Theorem*](https://en.wikipedia.org/wiki/Central_limit_theorem) tells us  that \n",
    "the distribution of the sum (or average) of a large number of independent, identically \n",
    "distributed measurements will be approximately normal, regardless of the underlying distribution\n",
    "(subject to the condition that mean and variance of the underlying distribution are not infinite).\n",
    "We'll see how this works for the simplest pdf ([probability density function](https://www.khanacademy.org/math/statistics-probability/random-variables-stats-library/random-variables-continuous/v/probability-density-functions)), a random variable $x$ uniformly distributed:"
   ]
  },
  {
   "cell_type": "markdown",
   "metadata": {
    "flags": [
     "problems",
     "solutions"
    ]
   },
   "source": [
    "$$f(x) = \\begin{cases} \\frac{1}{b-a} &\\mbox{if } a \\leq x \\leq b \\\\ \n",
    "0 & \\mbox{otherwise} \\end{cases} $$"
   ]
  },
  {
   "cell_type": "markdown",
   "metadata": {},
   "source": [
    "### 2a. "
   ]
  },
  {
   "cell_type": "markdown",
   "metadata": {
    "flags": [
     "problems",
     "solutions"
    ]
   },
   "source": [
    "Show that the mean $\\mu\\equiv \\int_{\\infty}^{\\infty} x f(x) dx$ is $\\frac{b+a}{2}$ and the variance $\\sigma^2\\equiv  \\int_{\\infty}^{\\infty} x^2 f(x) dx- \\mu^2$ is $\\frac{(b-a)^2}{12}$ for the above distribution."
   ]
  },
  {
   "cell_type": "markdown",
   "metadata": {},
   "source": [
    "Write your answer here"
   ]
  },
  {
   "cell_type": "markdown",
   "metadata": {},
   "source": [
    "### 2b. "
   ]
  },
  {
   "cell_type": "markdown",
   "metadata": {
    "flags": [
     "problems",
     "solutions"
    ]
   },
   "source": [
    "Let $a=0$ and $b=1$. Using your favorite random number generator, generate 1000 random numbers from the uniform distribution, $f(x)$.  Calculate the mean and variance of the numbers you generate.  Hint: You can use the NumPy (Numerical Python) library to generate random numbers from the (0,1) uniform distribution:"
   ]
  },
  {
   "cell_type": "code",
   "execution_count": 1,
   "metadata": {
    "flags": [
     "problems",
     "solutions"
    ]
   },
   "outputs": [
    {
     "name": "stdout",
     "output_type": "stream",
     "text": [
      "[0.56984728 0.85312919 0.69805746 0.16231663 0.25022581 0.75958685\n",
      " 0.68067556 0.45598432 0.92019752 0.35145929]\n"
     ]
    }
   ],
   "source": [
    "#Import the NumPy library as \"np\"\n",
    "import numpy as np\n",
    "\n",
    "#Use NumPy to generate a list (it's actually a numpy.ndarray) of 1000 random numbers\n",
    "samples = np.random.rand(1000)\n",
    "\n",
    "#Print the first 10 random numbers\n",
    "print(samples[0:10])"
   ]
  },
  {
   "cell_type": "markdown",
   "metadata": {
    "flags": [
     "problems",
     "solutions"
    ]
   },
   "source": [
    "Write your own functions to find the mean and variance of a list of numbers:"
   ]
  },
  {
   "cell_type": "code",
   "execution_count": 2,
   "metadata": {
    "flags": [
     "problems",
     "solutions"
    ]
   },
   "outputs": [],
   "source": [
    "def find_mean(num_list):\n",
    "    \n",
    "    # \"\"\"Your code here to calculate mean\"\"\"\n",
    "    \n",
    "    return mean\n",
    "\n",
    "def find_variance(num_list):\n",
    "    \n",
    "    # \"\"\"Your code here to calculate variance\"\"\"\n",
    "    \n",
    "    return variance"
   ]
  },
  {
   "cell_type": "code",
   "execution_count": 3,
   "metadata": {},
   "outputs": [],
   "source": [
    "#Write your answer here"
   ]
  },
  {
   "cell_type": "markdown",
   "metadata": {},
   "source": [
    "### 2c. "
   ]
  },
  {
   "cell_type": "markdown",
   "metadata": {
    "flags": [
     "problems",
     "solutions"
    ]
   },
   "source": [
    "Do these numerical results agree with the analytical results you found above?"
   ]
  },
  {
   "cell_type": "markdown",
   "metadata": {},
   "source": [
    "Write your answer here"
   ]
  },
  {
   "cell_type": "markdown",
   "metadata": {},
   "source": [
    "### 2d. "
   ]
  },
  {
   "cell_type": "markdown",
   "metadata": {
    "flags": [
     "problems",
     "solutions"
    ]
   },
   "source": [
    "Make a histogram  with 100 bins where the lower edge of the first bin is at $x=0$ and the upper\n",
    "edge of the last is at $x=1$.  Fill your histogram with the random numbers you generated above."
   ]
  },
  {
   "cell_type": "markdown",
   "metadata": {
    "flags": [
     "problems",
     "solutions"
    ]
   },
   "source": [
    "We'll use the **matplotlib.pyplot** module to make several histograms throughout the assignment, so we should go ahead and import it now.  Making a histogram from a list of numbers is as simple as calling [plt.hist()](https://matplotlib.org/api/_as_gen/matplotlib.pyplot.hist.html), with the list as the input parameter.  There are many optional parameters, like the number of bins and the color of the bars.\n",
    "\n",
    "Since our histograms will share similar formatting, it's also useful to define a function rather than typing the same thing over and over.  For this homework, we'll supply the histogramming routine.  In the future, you will write this code yourself."
   ]
  },
  {
   "cell_type": "code",
   "execution_count": 4,
   "metadata": {
    "flags": [
     "problems",
     "solutions"
    ]
   },
   "outputs": [],
   "source": [
    "#Import the pyplot module of matplotlib as \"plt\"\n",
    "import matplotlib.pyplot as plt\n",
    "\n",
    "\n",
    "#Makes a histogram filled with the random numbers we generate\n",
    "def plot_histogram(samples,xtitle,ytitle, title, limits):\n",
    "    \n",
    "    #It would be nice to have the mean and standard deviation in the title, so let's get these\n",
    "    mean, sigma = np.mean(samples), np.sqrt(np.var(samples))\n",
    "    #Plot the histogram of the sampled data with 100 bins and a nice color\n",
    "    plt.hist(samples, bins=100, range=limits, color=(0,0.7,0.9))  #Set the color using (r,g,b) values or\n",
    "                                                                  #  use a built-in matplotlib color\"\"\" \n",
    "\n",
    "    #Add some axis labels and a descriptive title\n",
    "    plt.xlabel(xtitle)\n",
    "    plt.ylabel(ytitle)\n",
    "    plt.title(title+'\\n $\\mu={0:.3f},\\ \\sigma={1:.3f}$'.format(mean,sigma) )\n",
    "\n",
    "    #Get rid of the extra white space on the left/right edges (you can delete these two lines without a problem)\n",
    "    xmin, xmax, ymin, ymax = plt.axis()\n",
    "    plt.axis([limits[0],limits[1],ymin,ymax])\n",
    "\n",
    "    #Not necessarily needed in a Jupyter notebook, but it doesn't hurt\n",
    "    plt.show()"
   ]
  },
  {
   "cell_type": "markdown",
   "metadata": {
    "flags": [
     "problems",
     "solutions"
    ]
   },
   "source": [
    "Take some time to play with the plot formatting and choose a [color](https://matplotlib.org/2.0.2/api/colors_api.html) you like for the bars.  Then call the function with your random samples."
   ]
  },
  {
   "cell_type": "code",
   "execution_count": 5,
   "metadata": {},
   "outputs": [],
   "source": [
    "#Write your answer here"
   ]
  },
  {
   "cell_type": "markdown",
   "metadata": {},
   "source": [
    "### 2e. "
   ]
  },
  {
   "cell_type": "markdown",
   "metadata": {
    "flags": [
     "problems",
     "solutions"
    ]
   },
   "source": [
    "Now suppose you make an ensemble of 1000 pseudoexperiments where each pseduoexperiment consists of $N$ uniformly distributed random numbers.  For each pseudoexperiment, define the measurement $S$ to be\n",
    "\n",
    "$$\n",
    "S \\equiv \\frac{1}{N} \\sum_1^N x_i\n",
    "$$\n",
    "\n",
    "Make histograms of $S$ with the same $x-$axis as above for the cases $N=2$, $N=5$\n",
    "and $N=10$.  Determine the mean and the $\\sigma$ of the distributions displayed in\n",
    "these histograms.  "
   ]
  },
  {
   "cell_type": "code",
   "execution_count": 6,
   "metadata": {
    "flags": [
     "problems",
     "solutions"
    ]
   },
   "outputs": [],
   "source": [
    "#Calculates and returns S as defined above\n",
    "def pseudoexperiment(N):\n",
    "    samples = np.random.rand(N)  #samples = [x_1, x_2, ... x_N]\n",
    "    s = 0  #replace this with your calculation of s\n",
    "    \n",
    "    \"\"\"Your code here\"\"\"\n",
    "    \n",
    "    return s\n",
    "\n",
    "#Performs each pseudoexperiment 1000 times and plot a histogram of the results\n",
    "def run_pseudoexperiments(N):\n",
    "    s_list = []\n",
    "    #run the ensemble of 1000 pseudoexperiments and store measurements\n",
    "    for i in range(1000):\n",
    "        s_list.append(pseudoexperiment(N))\n",
    "    #plot a histogram of these 1000 mesa\n",
    "    plot_histogram(s_list,\"Mean Value of x\",\"Number of Entries\",\"1000 PseudoExperiments, each with \"+str(N)+\" Randomly Distributed x values\",[0.0,1.0])"
   ]
  },
  {
   "cell_type": "code",
   "execution_count": 7,
   "metadata": {
    "flags": [
     "problems",
     "solutions"
    ]
   },
   "outputs": [],
   "source": [
    "# Uncomment this and run it after you have completed the code above\n",
    "#for N in [2,5,10]:\n",
    "#    run_pseudoexperiments(N)"
   ]
  },
  {
   "cell_type": "markdown",
   "metadata": {
    "flags": [
     "problems",
     "solutions"
    ]
   },
   "source": [
    "In each case, compare the $\\sigma$ you obtain to what you would predict if you assumed the experiments followed a normal distribution."
   ]
  },
  {
   "cell_type": "code",
   "execution_count": 8,
   "metadata": {},
   "outputs": [],
   "source": [
    "#Write your answer here"
   ]
  },
  {
   "cell_type": "markdown",
   "metadata": {},
   "source": [
    "## Question 3: Detector Resolution and Monte Carlo methods (40 points)"
   ]
  },
  {
   "cell_type": "markdown",
   "metadata": {},
   "source": [
    "### Learning objectives\n",
    "In this question you will:\n",
    "\n",
    "- Understand what position resolution means using a silicon strip detector as an example\n",
    "- Demonstrate that you can use simulation to solve problems that are more complicated than what can be done analytically\n",
    "- Learn how noise affects measurements\n"
   ]
  },
  {
   "cell_type": "markdown",
   "metadata": {
    "flags": [
     "problems",
     "solutions"
    ]
   },
   "source": [
    "In this problem we will study how the position resolution of a detector depends upon the properties of that detector. For our example, we will consider a silicon strip detector. We will describe our detector as an $x$-$y$ plane segmented into strips, each of width $\\ell$ in the $y$-direction. When a track moving in the $z$-direction passes through the plane, it deposits energy in the detector and that energy is collected using charge sensitive ampliﬁers (one per strip). You many assume that the incident track is normal to the silicon plane. Looking down on the strip detector (so that the incident tracks are traveling into the page), the detector looks like this:"
   ]
  },
  {
   "cell_type": "markdown",
   "metadata": {
    "flags": [
     "problems",
     "solutions"
    ]
   },
   "source": [
    "<img src=\"strips.png\" alt=\"Drawing\" style=\"width: 600px;\"/>"
   ]
  },
  {
   "cell_type": "markdown",
   "metadata": {
    "flags": [
     "problems",
     "solutions"
    ]
   },
   "source": [
    "The position $x=0$, $y=0$ is taken to be the center of the middle strip."
   ]
  },
  {
   "cell_type": "markdown",
   "metadata": {},
   "source": [
    "### 3a. "
   ]
  },
  {
   "cell_type": "markdown",
   "metadata": {
    "flags": [
     "problems",
     "solutions"
    ]
   },
   "source": [
    "Suppose all the energy is deposited in a single strip (the strip the\n",
    "track passes through).  Find an expression for the position resolution\n",
    "of the detector as a function of $\\ell$. The position resolution is defined\n",
    "to be $\\sigma_x = \\sqrt{var[(x_{meas}-x_{true})]}$ where $x_{true}$ is the \n",
    "position where the track actually hit the detector.  Because we only\n",
    "know which strip is hit, in this example \n",
    "$x_{meas}$ is the center of the strip that is hit."
   ]
  },
  {
   "cell_type": "markdown",
   "metadata": {},
   "source": [
    "Write your answer here"
   ]
  },
  {
   "cell_type": "markdown",
   "metadata": {},
   "source": [
    "### 3b. "
   ]
  },
  {
   "cell_type": "markdown",
   "metadata": {
    "flags": [
     "problems",
     "solutions"
    ]
   },
   "source": [
    "Suppose that \n",
    "the charge deposited in our detector spreads out due\n",
    "to physical effects such as diffusion. It is possible for more than\n",
    "one strip to register a signal.  Assume in this part that our electronics\n",
    "is binary (i.e. registers a 1 if the deposited energy on the\n",
    "strip is above a specified threshold\n",
    "and 0 otherwise). Assume the threshold on the electronics is\n",
    "such that particles hitting within\n",
    "a  distance of $\\pm \\ell/3 $ of the center of the strip only register on\n",
    "a single strip while all particles hitting further from the strip\n",
    "center register on two strips.\n",
    "\n",
    "What is the position resolution now? (Here, if\n",
    "only one strip is hit, $x_{meas}$ is the center of the strip.  If\n",
    "two strips are hit, then $x_{meas}$ is the common edge of the two\n",
    "hit strips).  **Note:** this is *not* an unrealistic example.  The ATLAS silicon\n",
    "strip detector has such binary readout."
   ]
  },
  {
   "cell_type": "markdown",
   "metadata": {},
   "source": [
    "Write your answer here"
   ]
  },
  {
   "cell_type": "markdown",
   "metadata": {},
   "source": [
    "### 3c. "
   ]
  },
  {
   "cell_type": "markdown",
   "metadata": {
    "flags": [
     "problems",
     "solutions"
    ]
   },
   "source": [
    "So far, it has been possible to calculate the position resolution analytically. In cases where the detector response is more complicated, this may not be the case. Typically, physicists model detector performance using Monte Carlo simulations. In the remainder of this problem, you will write a simple simulation to determine the position resolution of a silicon detector.\n"
   ]
  },
  {
   "cell_type": "markdown",
   "metadata": {
    "flags": [
     "problems",
     "solutions"
    ]
   },
   "source": [
    "Let's begin by reproducing the analytic results obtained above.\n",
    "Consider a silicon strip detector that consisting of several strips of width $\\ell$.  \n",
    "Assume that the incident particles have a uniform distribution\n",
    "in $x$ with $-\\ell/2 < x < \\ell/2$ and all have $y=0$. (We'll just focus on this \"center strip\", so $x_{meas}$ can either be $-\\ell/2$, $0$, or $\\ell/2$ depending on where the particle hits.)\n",
    "Generate 10,000 such particles for\n",
    "the case described in part **2(a)** and for the case described\n",
    "in part **2(b)**.\n",
    "For each case, make a histogram of ($x_{meas}-x_{true}$) and \n",
    "verify that\n",
    "the resolution \n",
    "is consistent with that  obtained in problem **2**. \n",
    "\n",
    "You can use np.random.uniform() to sample from a uniform distribution with arbitrary bounds. We'd like 10,000 samples for this problem, so we set size = 10000. Note that we take $\\ell = 1$ for simplicity.\n"
   ]
  },
  {
   "cell_type": "code",
   "execution_count": 9,
   "metadata": {
    "flags": [
     "problems",
     "solutions"
    ]
   },
   "outputs": [],
   "source": [
    "import numpy as np\n",
    "samples = np.random.uniform(-0.5, 0.5, size=10000)"
   ]
  },
  {
   "cell_type": "markdown",
   "metadata": {
    "flags": [
     "problems",
     "solutions"
    ]
   },
   "source": [
    "For the case of **2(a)**, $x_{meas}=0$ (the center of the strip), so we can simply find the variance of these samples and take the square root to find the position resolution.  Note that this is really just a repetition of the first problem, but with our bounds shifted from (0,1) to (-0.5,0.5)."
   ]
  },
  {
   "cell_type": "code",
   "execution_count": 10,
   "metadata": {},
   "outputs": [],
   "source": [
    "#Write your answer here"
   ]
  },
  {
   "cell_type": "markdown",
   "metadata": {},
   "source": [
    "### 3d. "
   ]
  },
  {
   "cell_type": "markdown",
   "metadata": {
    "flags": [
     "problems",
     "solutions"
    ]
   },
   "source": [
    "For the case where two strips are sometimes hit, we need to consider the three different cases for $x_{meas}$."
   ]
  },
  {
   "cell_type": "code",
   "execution_count": 11,
   "metadata": {
    "flags": [
     "problems",
     "solutions"
    ]
   },
   "outputs": [
    {
     "data": {
      "image/png": "[encoded data removed]",
      "text/plain": [
       "<Figure size 640x480 with 1 Axes>"
      ]
     },
     "metadata": {},
     "output_type": "display_data"
    }
   ],
   "source": [
    "#We'll call the quantity (x_meas - x_true) the \"error\" of the measurement\n",
    "errors = []\n",
    "\n",
    "#Go through each of our random samples and append (x_meas - x_true) to the error list\n",
    "for x_true in samples:\n",
    "    #particle hits the left third of strip\n",
    "    if x_true < -1/3:\n",
    "      x_meas = 0 # \"\"\"Your code here to replace 0\"\"\"\n",
    "    #particle hits the right third of strip\n",
    "    elif x_true > 1/3:\n",
    "       x_meas = 0 #\"\"\"Your code here to replace 0\"\"\"\n",
    "    else:\n",
    "       x_meas = 0 #\"\"\"Your code here to replace 0\"\"\"\n",
    "        \n",
    "    errors.append(x_meas - x_true)\n",
    "\n",
    "plot_histogram(errors,\"x value\",\"Number of Entries\",\"Measured-True Position\",[-0.5,0.5])"
   ]
  },
  {
   "cell_type": "code",
   "execution_count": 12,
   "metadata": {},
   "outputs": [],
   "source": [
    "#Write your answer here"
   ]
  },
  {
   "cell_type": "markdown",
   "metadata": {},
   "source": [
    "### 3e. "
   ]
  },
  {
   "cell_type": "markdown",
   "metadata": {},
   "source": [
    "let us replace our binary electronics with analog electronics (so that the magnitude of the charge deposited on the strip is recorded). We will model the transverse spreading of the charge from our incident track using a Gaussian distribution with width $\\sigma_M$: \n",
    "$$ f(x)dx = \\frac{1}{\\sigma_M\\sqrt{2\\pi}} \\exp(-(x-x_0)^2/2\\sigma_M^2)$$\n",
    "where $f(x)$ is the charge deposited between position $x$ and $x+dx$ and $x_0$ is the point where the track hits the detector. Assume that the total energy deposited by each track is 1 MIP (a MIP is the energy deposited by a single minimum ionizing particle), that our analog electronics has a threshold of 0.2~MIP (in other words, the electronics only reads out channels with at least 0.2 MIP of energy)  and that $\\sigma_M=\\ell$.  Also assume that the electronics has an intrinsic noise contribution $\\sigma_N=0.05$~MIP. (This means that the measurement of the charge on each strip is modified by adding a noise contribution that is distributed according to a Gaussian with mean 0 and variance $\\sigma_N$.)   You should assume the noise is uncorrelated between channels (so the amount of  noise on one channel is independent of the noise on its neighbors).\n",
    "\n",
    "Generate 10,000 particles and simulate the response of this silcon strip detector to these particles.\n",
    "\n",
    "From this simulation determine the position resolution of the silicon detector. How does your result compare to the binary solution?   In analyzing the simulated data, take  the measured position  of the particle to be:\n",
    "$$\n",
    "x_{meas} = \\sum_{i=strips} q_i x_i\n",
    "$$\n",
    "where the index $i$ is the strip number, $q_i$ is the measured charge on the strip (set to zero for strips with charge below threshold) and $x_i$ is the position of the center of strip $i$.  Also, limit your sum to the strip with the highest energy and at most 2 additional strips on either side.\n",
    "\n"
   ]
  },
  {
   "cell_type": "markdown",
   "metadata": {},
   "source": [
    "Write your answer here"
   ]
  },
  {
   "cell_type": "markdown",
   "metadata": {},
   "source": [
    "### 3f. "
   ]
  },
  {
   "cell_type": "markdown",
   "metadata": {},
   "source": [
    "Repeat the exercise for the case where the electronic noise and hence the   threshold can be reduced: $\\sigma_N=0.025$ MIP and threshold=0.1 MIP.  "
   ]
  },
  {
   "cell_type": "markdown",
   "metadata": {},
   "source": [
    "Write your answer here"
   ]
  },
  {
   "cell_type": "markdown",
   "metadata": {},
   "source": [
    "## Question 4: Fitting a Signal in the Presence of Background (25 points)"
   ]
  },
  {
   "cell_type": "markdown",
   "metadata": {},
   "source": [
    "### Learning objectives\n",
    "In this question you will:\n",
    "\n",
    "- Gain experience in performing $\\chi^2$ fits to histogrammed data; explore how the statistical significance of a signal depends on the number of signal events and the signal-to-background ratio\n"
   ]
  },
  {
   "cell_type": "markdown",
   "metadata": {},
   "source": [
    " ### 4a."
   ]
  },
  {
   "cell_type": "markdown",
   "metadata": {},
   "source": [
    "Physicists often fit for signals in the presence of background.  In such cases, the significance of the fitted signal depends not only on the number of signal events but also on the amount of background and our ability to statistically separate the two.  In this problem, we will explore fitting signal and background for a very simple case:  The signal is a Gaussian peak centered at $x=10$ with a width $\\sigma=1$ and the background is uniformly distributed between $x=0$ and $x=20$.  The code below generates fake data, allowing you to change both the number of events in the signal and the ratio of signal-to-background.  To make sure that our definition of background does not depend on the fit range, the code below defines the signal-to-background ratio as the ratio number of signal events to the number of background events in a $\\pm 2 \\sigma$ window around the signal peak.  Here is the code you will use to generate the fake data:"
   ]
  },
  {
   "cell_type": "code",
   "execution_count": 13,
   "metadata": {},
   "outputs": [],
   "source": [
    "# Write import math\n",
    "import numpy as np\n",
    "import random\n",
    "import matplotlib.pyplot as plt\n",
    "from scipy.optimize import minimize\n",
    "\n",
    "def makeData( SignalToBackground, nSigEvents, seed=12345):\n",
    "    \"\"\"Generates a dataset consisting of nEvents some of which are signal (a Gaussian with a width of 1 centered\n",
    "    at x=5) and the rest of which is background\n",
    "    Definition of SignalToBackground:  The ratio of the number of signal events within 2 sigma of the peak to the number\n",
    "    of background events in that same x-range  (this definition is just a choice)\n",
    "    \n",
    "    Parameters\n",
    "    ==========\n",
    "     SignalToBackground : float\n",
    "     Ratio of the number of signal events within 2 sigma of the peak to the number\n",
    "    of background events in that same x-range  (this definition is just a choice) \n",
    "      \n",
    "    nSigEvents : int\n",
    "      total number of signal events generated (NOT the number in +- 2 sigma)\n",
    "      \n",
    "    seed : int\n",
    "      seed for the random number generator\n",
    "      \n",
    "    Returns\n",
    "    =======\n",
    "    data : array\n",
    "      the measurements of x\n",
    "    \"\"\"\n",
    "    fracOutsideTwoSigma = 4.55e-2\n",
    "    # 1-fracOutsideTwoSigma is the fraction of the Signal Events within +-2 sigma\n",
    "    # To get the total number of background events, find the number in +-2 sigma\n",
    "    # which is 4 units of x and then since the background is flat from 0 to 20\n",
    "    # multiply by 20/4=5\n",
    "    \n",
    "    nBackground = 5*nSigEvents*(1-fracOutsideTwoSigma)/SignalToBackground\n",
    "    nEvents = nSigEvents+nBackground\n",
    "    fSig = nSigEvents/nEvents\n",
    "    \n",
    "    # Make an array to hold the data (ie the x measurements)\n",
    "    data = []\n",
    "    \n",
    "    # set the random seed.  This will allow us to reproduce the results if we run again\n",
    "    np.random.seed(seed)\n",
    " \n",
    "    # Retrieve nEvents random numbers that will be used to pick which events are signal\n",
    "    # and which are background\n",
    "    n = int(nEvents)\n",
    "    tests = np.random.uniform(0,1,n)\n",
    "    bck = np.random.uniform(0,20,n)\n",
    "    sig = np.random.normal(10,1,n)\n",
    "    \n",
    "    count = 0\n",
    "    for test in tests:\n",
    "        if(test<fSig):\n",
    "            data.append(sig[count])\n",
    "        else:\n",
    "            data.append(bck[count])\n",
    "        count+=1\n",
    "    \n",
    "    # Loop over the events and pick either signal or background and draw from the appropriate \n",
    "    # pdf in each case\n",
    "    \n",
    "    # return the data to the user\n",
    "    return data\n",
    "    "
   ]
  },
  {
   "cell_type": "markdown",
   "metadata": {},
   "source": [
    "Below is a simple test to show you how to use this code.  Remember if you run this code multiple times you should change the seed each time (for example, you could increment the seed each time you call the function)"
   ]
  },
  {
   "cell_type": "code",
   "execution_count": 14,
   "metadata": {},
   "outputs": [
    {
     "name": "stdout",
     "output_type": "stream",
     "text": [
      "number of total data events:  115\n",
      "data:  [11.047401505881462, 11.57102936217666, 10.430661187946646, 0.05376129148641384, 19.7669083856564, 18.106831513232198, 4.15271722392649, 5.849788255848496, 10.40020306144967, 18.038227453213413, 19.672617698234465, 5.150841283081662, 11.287180858495633, 10.579689779144333, 7.887401079055496, 14.621460716891141, 3.221380288584297, 12.013971356671798, 17.317289166065294, 19.67043218407111, 1.5873158075603144, 8.566945494018984, 4.0908571909285545, 9.012729810374696, 10.95527145257708, 1.8665342073964153, 5.937215509613589, 18.55168480304295, 11.380074628603907, 9.148239950472238, 8.762646787312146, 14.837243036840746, 0.9715806568853758, 14.17394790885492, 16.784866956101673, 3.3187576841390776, 15.619958759999147, 5.730732334582038, 6.129395066591146, 13.30522930699366, 2.227843432154315, 9.800887617242747, 17.757135853524453, 13.926225364708127, 8.806557533308181, 8.764287687544494, 15.30192190478613, 11.312840024517657, 1.6980832638363519, 11.653421757228093, 8.53488377794505, 6.7413276689521995, 18.55153159150779, 15.014340006863359, 11.48127650299929, 15.032879775858367, 1.5829792147641042, 17.18778151361223, 16.43008226401116, 18.197433192204176, 2.5726239501876003, 1.6356017418797042, 2.7683114556317956, 7.9875742020560025, 8.486137221619838, 9.416463283292343, 2.444870992650101, 4.027990027627418, 16.232886965680432, 9.359751481134989, 11.218985862132426, 0.14852757089226065, 11.03185451964811, 18.638642961533563, 11.408369146076902, 4.121914548905483, 14.355151245591152, 9.330381400130241, 11.264625286968007, 0.5863944578754254, 12.718007187027123, 0.64395869875848, 14.89561310283532, 9.458260044769101, 2.4350871094610738, 10.85271851577012, 1.335488864500094, 9.317461845796695, 19.92172654735651, 15.387946741479245, 11.475482273176489, 2.052705184215917, 13.996681495458294, 13.223357346558622, 0.9819426124555264, 15.845986036891812, 8.076284270302875, 8.517353883998382, 15.76374347202931, 8.231384464176744, 9.620525510103072, 3.6325768534764924, 10.765054845997017, 9.17101116623899, 3.738074978534307, 8.345821218066883, 19.78069014790599, 4.731996234110387, 18.33664665877658, 18.36794935611266, 1.8259268440640364, 9.27305449771032, 11.175910771834607, 6.273379001042549, 0.9467907447547397]\n"
     ]
    }
   ],
   "source": [
    "mydata = []\n",
    "#  make 10 signal events with a signalToBackground of 1 using random seed 123\n",
    "mydata=makeData(1,20,123)\n",
    "print(\"number of total data events: \",len(mydata))\n",
    "print(\"data: \",mydata)"
   ]
  },
  {
   "cell_type": "markdown",
   "metadata": {},
   "source": [
    "Generate a sample of 1000 signal events with signalToBackground=0.5 and make a histogram of your results. Make sure that the number of bins in your histogram is small enough that you have at least 10 entries per bin (so that it is reasonable to do a binned fit to the histogram). To make life a bit easier, here is function you can use to make your histograms.  You are of course free to write your own function and not use this code."
   ]
  },
  {
   "cell_type": "code",
   "execution_count": 16,
   "metadata": {},
   "outputs": [],
   "source": [
    "#Import the pyplot module of matplotlib as \"plt\"\n",
    "import matplotlib.pyplot as plt\n",
    "\n",
    "\n",
    "#Makes a histogram filled with the random numbers we generate\n",
    "def plot_histogram(samples,xtitle,ytitle, title, nbins, limits):\n",
    "   \n",
    "    #Plot the histogram of the sampled data with nbins and a nice color\n",
    "    n, bins, patches =plt.hist(samples, bins=nbins, range=limits, color=(0,0.7,0.9))  #Set the color using (r,g,b) values or\n",
    "                                                                  #  use a built-in matplotlib color\"\"\" \n",
    "    bincenters = 0.5*(bins[1:]+bins[:-1])\n",
    "    errs = np.sqrt(n)\n",
    "\n",
    "    plt.errorbar(bincenters, n, yerr=errs, fmt='none')\n",
    "    #Add some axis labels and a descriptive title\n",
    "    plt.xlabel(xtitle)\n",
    "    plt.ylabel(ytitle)\n",
    "\n",
    "    #Get rid of the extra white space on the left/right edges (you can delete these two lines without a problem)\n",
    "    xmin, xmax, ymin, ymax = plt.axis()\n",
    "    plt.axis([limits[0],limits[1],ymin,ymax])\n",
    "\n",
    "    #Not necessarily needed in a Jupyter notebook, but it doesn't hurt\n",
    "    plt.show()\n",
    "    return n, bins, patches\n"
   ]
  },
  {
   "cell_type": "code",
   "execution_count": 17,
   "metadata": {},
   "outputs": [],
   "source": [
    "#Write your answer here"
   ]
  },
  {
   "cell_type": "markdown",
   "metadata": {},
   "source": [
    "### 4b. "
   ]
  },
  {
   "cell_type": "markdown",
   "metadata": {},
   "source": [
    "Pretend this is real data.  Your goal is to find the best estimate of how many events are in a Gaussian peak with unknown mean and sigma and what the uncertainty on this estimate is.  In your fit, you can make the assumption that the background is flat (a zeroth order polynomial) but that you don't have a prediction for the background rate.  Use your favorite minimization package to fit the data.  Deterimine the best estimate of the number of events in signal and the uncertainty on that estimate.  (remember, that you must let the position and width of the Gaussian and the size of the background vary in your fit).\n",
    "\n",
    "Hint: For examples of how to perform a least squared fit of a function to data see:\n",
    "- https://github.com/berkeley-physics/Python-Tutorials/blob/master/3%20-%20Specific%20topics/Fitting.ipynb\n",
    "- https://docs.scipy.org/doc/scipy/reference/generated/scipy.optimize.curve_fit.html"
   ]
  },
  {
   "cell_type": "code",
   "execution_count": 18,
   "metadata": {},
   "outputs": [],
   "source": [
    "#Write your answer here"
   ]
  },
  {
   "cell_type": "markdown",
   "metadata": {},
   "source": [
    "### 4c. "
   ]
  },
  {
   "cell_type": "markdown",
   "metadata": {},
   "source": [
    "What is the $\\chi^2$ per degree of freedom for your fit?  What does this number tell you about how well your fit describes the data?"
   ]
  },
  {
   "cell_type": "markdown",
   "metadata": {},
   "source": [
    "#Write your answer here"
   ]
  },
  {
   "cell_type": "markdown",
   "metadata": {},
   "source": [
    "### 4d. "
   ]
  },
  {
   "cell_type": "markdown",
   "metadata": {},
   "source": [
    "If a signal of size $N_S^{meas}$ has a fitted uncertainty $\\sigma_S$, the signficance of the measurement is defined to be\n",
    "$$\n",
    "S^{meas} \\equiv \\frac{N_S^{meas}}{\\sigma_S}\n",
    "$$\n",
    "When the size of the data sample is large enough that Gaussian uncertainties are appropriate, a rule of thumb can be used to give a crude estimate of the expected significance $S^{expected}$ of the measurement. This predicted signficance depends on the number of signal events ($N_{S}$) and is the number of background events populating the region **beneath the signal** ($N_B$):\n",
    "$$\n",
    "S^{expected}  \\approx  \\frac{N_S}{\\sqrt{N_S+N_B}}\n",
    "$$\n",
    "\n",
    "Repeat the above exercise changing both the number of events in your signal and the signalToBackground ratio.  Plot the values of the measured significance  $S^{meas}$ \n",
    "obtained from your fits as a function of $\\frac{N_S}{\\sqrt{N_S+N_B}}$.  How do your results compare to the simple rule of thumb quoted above?"
   ]
  },
  {
   "cell_type": "code",
   "execution_count": 19,
   "metadata": {},
   "outputs": [],
   "source": [
    "#Write your answer here"
   ]
  }
 ],
 "metadata": {
  "kernelspec": {
   "display_name": "Python 3 (ipykernel)",
   "language": "python",
   "name": "python3"
  },
  "language_info": {
   "codemirror_mode": {
    "name": "ipython",
    "version": 3
   },
   "file_extension": ".py",
   "mimetype": "text/x-python",
   "name": "python",
   "nbconvert_exporter": "python",
   "pygments_lexer": "ipython3",
   "version": "3.9.15"
  }
 },
 "nbformat": 4,
 "nbformat_minor": 4
}
