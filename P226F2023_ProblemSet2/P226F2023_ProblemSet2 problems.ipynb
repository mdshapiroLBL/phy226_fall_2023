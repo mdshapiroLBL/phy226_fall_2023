{
 "cells": [
  {
   "cell_type": "markdown",
   "metadata": {},
   "source": [
    "# Physics 226 Problem Set 2: Due Friday Sept 8"
   ]
  },
  {
   "cell_type": "markdown",
   "metadata": {},
   "source": [
    "## Question 1: Relativity and Particle Decays (20 points)"
   ]
  },
  {
   "cell_type": "markdown",
   "metadata": {},
   "source": [
    "### Learning objectives\n",
    "In this question you will:\n",
    "\n",
    "- Review relativistic expressions relevant for determining the mass and lifetime of a particle from its decay products\n",
    "- gain experience in using python to analyze data provided in a text file\n"
   ]
  },
  {
   "cell_type": "markdown",
   "metadata": {},
   "source": [
    "### 1a. "
   ]
  },
  {
   "cell_type": "markdown",
   "metadata": {
    "flags": [
     "problems",
     "solutions"
    ]
   },
   "source": [
    "The decays of particles with lifetimes longer than $\\sim 0.5$ ps can be observed in high resolution particle detectors. By measuring many particle decays, properties such as the decaying particle's mass and lifetime can be determined."
   ]
  },
  {
   "cell_type": "markdown",
   "metadata": {
    "flags": [
     "problems",
     "solutions"
    ]
   },
   "source": [
    "The file decayData.dat contains a set of simulated observations of particle decays that come from one specific species of hadron, which we designate particle $X$. The $X$ is observed through its decay $ X \\rightarrow p \\pi^{-} $ where the $p$ is a proton.  All the  $X$ particles are produced at the origin $(x=0,y=0,z=0)$ but they have with a range of momenta.  The position of the decay and the momentum of the proton and $\\pi^-$ are measured.\n",
    "\n",
    "\n",
    "The following code reads this data file and puts the data into a form that can be easily used in python:"
   ]
  },
  {
   "cell_type": "code",
   "execution_count": 1,
   "metadata": {
    "flags": [
     "problems",
     "solutions"
    ]
   },
   "outputs": [],
   "source": [
    "import math\n",
    "import numpy as np\n",
    "import matplotlib.pyplot as plt\n",
    "from scipy.optimize import curve_fit\n",
    "\n",
    "# Parse the input file.\n",
    "file = \"decayData.dat\"\n",
    "\n",
    "#Each row corresponds to one event. The columns are:\n",
    "# x-position of the decay vertex in cm\n",
    "# y-position of the decay vertex in cm\n",
    "# z-position of the decay vertex in cm\n",
    "# species of first particle (always a proton)\n",
    "# p1x: x-momentum of the proton produced in the decay in GeV\n",
    "# p1y: y-momentum of the proton produced in the decay in GeV\n",
    "# p1z: z-momentum of the proton produced in the decay in GeV\n",
    "# species of second particle (always a pi^-)\n",
    "# p2x: x-momentum of the pi^- produced in the decay in GeV\n",
    "# p2x: y-momentum of the pi^- produced in the decay in GeV\n",
    "# p2x: z-momentum of the pi^- produced in the decay in GeV\n",
    "\n",
    "\n",
    "inMeta = False\n",
    "vx = []\n",
    "vy = []\n",
    "vz = []\n",
    "p1x = []\n",
    "p1y = []\n",
    "p1z = []\n",
    "p2x = []\n",
    "p2y = []\n",
    "p2z = []\n",
    "\n",
    "\n",
    "inMeta = True\n",
    "for line in open(file,\"r\"):\n",
    "    line = line.strip()\n",
    "    info = line.split(\",\")    \n",
    "    if inMeta and (\"<metadata>\" in info[0]):\n",
    "        inMeta = True\n",
    "    elif inMeta and (\"</metadata>\" in info[0]):\n",
    "        inMeta = False\n",
    "    elif not inMeta:\n",
    "        vx.append(float(info[0]))\n",
    "        vy.append(float(info[1]))\n",
    "        vz.append(float(info[2]))\n",
    "        p1x.append(float(info[4]))\n",
    "        p1y.append(float(info[5]))\n",
    "        p1z.append(float(info[6]))\n",
    "        p2x.append(float(info[8]))\n",
    "        p2y.append(float(info[9]))\n",
    "        p2z.append(float(info[10]))\n",
    "massPiInGeV = 0.13957\n",
    "massProtonInGeV = 0.93827"
   ]
  },
  {
   "cell_type": "markdown",
   "metadata": {
    "flags": [
     "problems",
     "solutions"
    ]
   },
   "source": [
    "Verify that all these events correspond to the decay of a particle of a specific species by making a histogram of the invariant mass of the decays."
   ]
  },
  {
   "cell_type": "code",
   "execution_count": 2,
   "metadata": {},
   "outputs": [],
   "source": [
    "#Write your answer here"
   ]
  },
  {
   "cell_type": "markdown",
   "metadata": {},
   "source": [
    "### 1b. "
   ]
  },
  {
   "cell_type": "markdown",
   "metadata": {
    "flags": [
     "problems",
     "solutions"
    ]
   },
   "source": [
    "Using these data, determine the lifetime of the $X$ particle.  What evidence do you have that the $X$ has a decay distribution consistent with a single species with one lifetime?  Note: your answer to the last part does not have to be very detailed.  A simple graph and a sentence or two of explanation is sufficient"
   ]
  },
  {
   "cell_type": "markdown",
   "metadata": {},
   "source": [
    "#Write your answer here"
   ]
  },
  {
   "cell_type": "markdown",
   "metadata": {},
   "source": [
    "### 1c. "
   ]
  },
  {
   "cell_type": "markdown",
   "metadata": {},
   "source": [
    "What is the lifefime of the X particle?"
   ]
  },
  {
   "cell_type": "code",
   "execution_count": 4,
   "metadata": {},
   "outputs": [],
   "source": [
    "#Write your answer here"
   ]
  },
  {
   "cell_type": "markdown",
   "metadata": {},
   "source": [
    "### 1d."
   ]
  },
  {
   "cell_type": "markdown",
   "metadata": {},
   "source": [
    "Starting with the $X$ particle's mass and lifetime and the fact that it can decay to  $ X \\rightarrow p \\pi^{-} $ used the Particle Data Group web pages to determine what particle the $X$ is."
   ]
  },
  {
   "cell_type": "markdown",
   "metadata": {},
   "source": [
    "## Question 2: $\\pi^0$ Decay (20 points)"
   ]
  },
  {
   "cell_type": "markdown",
   "metadata": {},
   "source": [
    "### Learning objectives\n",
    "In this question you will:\n",
    "\n",
    "- Review basic concepts of Special Relativity and Lorentz Boosts\n",
    "- Apply these concepts to the case of $\\pi^0\\rightarrow \\gamma \\gamma$ decay\n",
    "- Learn techniques needed to simulate the decay of an ensemble of  $\\pi^0$s with non-zero momentum\n"
   ]
  },
  {
   "cell_type": "markdown",
   "metadata": {
    "flags": [
     "problems",
     "solutions"
    ]
   },
   "source": [
    "*Adapted from Perkins $4^{th}$ Edition Problem 1.4*\n",
    "\n",
    "In this problem you will derive an expression for the distribution of photon energies produced in the decays of $\\pi^0$s that are moving with fixed momentum.  Then, you will learn how to create a simulated sample of such $\\pi^0$ decays.   Note: In this problem, we will use natural units where $\\hbar=c=1$."
   ]
  },
  {
   "cell_type": "markdown",
   "metadata": {},
   "source": [
    "### 2a. "
   ]
  },
  {
   "cell_type": "markdown",
   "metadata": {
    "flags": [
     "problems",
     "solutions"
    ]
   },
   "source": [
    "A particle beam consists of $\\pi^0$'s all with energy $E_{lab}$ and all traveling in the $+z$ direction. Find an expression for the energy of the photons produced from the $\\pi^0$ decays as a function of $m_\\pi$, $E_{lab}$ and $\\theta^*$ (the angle of emission  of the  photon with respect to the $z$-axis in the pion rest frame).  Using this expression, show that the lab energy spectrum of the photons is flat, extending from $E_{lab}\\left (1+\\beta \\right )/2$ to $E_{lab}\\left (1-\\beta \\right )/2$, where $\\beta$ is the velocity of the $\\pi^0$ in the lab frame."
   ]
  },
  {
   "cell_type": "markdown",
   "metadata": {},
   "source": [
    "Write your answer here"
   ]
  },
  {
   "cell_type": "markdown",
   "metadata": {},
   "source": [
    "### 2b. "
   ]
  },
  {
   "cell_type": "markdown",
   "metadata": {
    "flags": [
     "problems",
     "solutions"
    ]
   },
   "source": [
    "Find an expression for the disparity $D$ (the ratio of the energy of the higher energy photon to the energy of the lower energy) and show that in the relativistic limit $\\beta\\approx 1$, $D>3$ in half the decays and $D>7$ in one quarter"
   ]
  },
  {
   "cell_type": "markdown",
   "metadata": {},
   "source": [
    "Write your answer here"
   ]
  },
  {
   "cell_type": "markdown",
   "metadata": {},
   "source": [
    "### 2c. "
   ]
  },
  {
   "cell_type": "markdown",
   "metadata": {
    "flags": [
     "problems",
     "solutions"
    ]
   },
   "source": [
    "It is often useful for physicists to simulate experimental data.  Such simulations allow us generate an ensemble of events corresponding to a given physical process and to study them.  Generated events can be passed through a simulated detector that has imperfections (finite resolution, missing channels, incomplete angular coverage, etc) and the effect of such imperfections on our measurements can be assessed.  This problem is our first example of creating such simulated data.  Our simulation will be quite simple but the concepts developed here will be used through the semester."
   ]
  },
  {
   "cell_type": "markdown",
   "metadata": {
    "flags": [
     "problems",
     "solutions"
    ]
   },
   "source": [
    "Assume we have a beam of 10000 $\\pi^0$ all with energy 5 GeV.  Simulate the decay of these pions and plot (histogram) the following distributions:\n",
    "- The energies of the photons produced in the $\\pi^0$ decay\n",
    "- The disparity of the decays\n",
    "- The angles $\\theta$ between the momenta of the photons and that of the $\\pi^0$ in the lab frame.\n",
    "    \n",
    "Hints: \n",
    "- For each decay, first simulate the decay in the pion center of mass and then Lorentz boost to the lab frame \n",
    "- Since in the rest frame of the pion, the decay is isotropic, the distribution of $\\cos \\theta^*$ is uniformly distributed.  If for each event you pull a random number uniformly distributed between 0 and 1 and set $\\cos \\theta^* $ for that event equal to the random number, the decays will have the right distribution.\n",
    "- In principle, you could find the $\\phi^*$ angle for each decay by pulling a second uniformly distributed random number, but for this problem you will not need the $x$ and $y$ components of the photon momentum separately so you don't need to do this."
   ]
  },
  {
   "cell_type": "code",
   "execution_count": 5,
   "metadata": {},
   "outputs": [],
   "source": [
    "#Write your answer here"
   ]
  },
  {
   "cell_type": "markdown",
   "metadata": {},
   "source": [
    "### 2d. "
   ]
  },
  {
   "cell_type": "markdown",
   "metadata": {
    "flags": [
     "problems",
     "solutions"
    ]
   },
   "source": [
    "Modify your simulation so that instead of having a fixed energy beam, the $\\pi^0$ energy is uniformly distributed between 1 and 20 GeV.  Make a 2D histogram of the opening angle between the two photons (measured in milli-radians) as a function of the $\\pi^0$ energy."
   ]
  },
  {
   "cell_type": "markdown",
   "metadata": {},
   "source": [
    "### 2e. "
   ]
  },
  {
   "cell_type": "markdown",
   "metadata": {
    "flags": [
     "problems",
     "solutions"
    ]
   },
   "source": [
    "In the ATLAS detector, photons are identifed in the electromagnetic calorimeter by looking for a narrow energy cluster. Assume that two photons will be *merged* into a single cluster if their opening angles differ by more than 75 milli-radians.  Using your scatter plot above, estimate the maximum energy $\\pi^0$ for which the decay photons can be cleanly separated. (Note: the ATLAS detector is more complicated than the description presented in this problem, having different granularities in $\\theta$ and $\\phi$ directions.  Moreover, the experiment can *identify* $\\pi^0$ at higher energies than suggested here by looking at the width of the merged energy deposit from the two clusters.)"
   ]
  },
  {
   "cell_type": "markdown",
   "metadata": {},
   "source": [
    "Write your answer here"
   ]
  },
  {
   "cell_type": "markdown",
   "metadata": {},
   "source": [
    "## Question 3: Mandelstam Variables (20 points)"
   ]
  },
  {
   "cell_type": "markdown",
   "metadata": {},
   "source": [
    "## Learning objectives\n",
    "In this question you will:\n",
    "\n",
    "- Review the definitions of the Mandelstam Variables\n",
    "- Apply relativistic formulae to derive and important relationship between these variables"
   ]
  },
  {
   "cell_type": "markdown",
   "metadata": {},
   "source": [
    "In the two-to-two process $1+2\\rightarrow 3+4$ the Mandelstan variable are define:\n",
    "\\begin{eqnarray*}\n",
    "s & = & \\left (p_1+p_2\\right )^2 \\\\\n",
    "t & = & \\left (p_1-p_3\\right )^2 \\\\\n",
    "u & = & \\left (p_1-p_4\\right )^2 \\\\\n",
    "\\end{eqnarray*}"
   ]
  },
  {
   "cell_type": "markdown",
   "metadata": {},
   "source": [
    "### 3a. "
   ]
  },
  {
   "cell_type": "markdown",
   "metadata": {},
   "source": [
    "Show that $s$ is the square of the center-or-mass energy of the system $1+2$"
   ]
  },
  {
   "cell_type": "markdown",
   "metadata": {},
   "source": [
    "#Write your answer here"
   ]
  },
  {
   "cell_type": "markdown",
   "metadata": {},
   "source": [
    "### 3b. "
   ]
  },
  {
   "cell_type": "markdown",
   "metadata": {},
   "source": [
    "Show that $$s+t+u = m_1^2+m_2^2+m_3^2+m_4^2$$"
   ]
  },
  {
   "cell_type": "markdown",
   "metadata": {},
   "source": [
    "#Write your answer here"
   ]
  },
  {
   "cell_type": "markdown",
   "metadata": {},
   "source": [
    "## Question 4: Using Relativistic Expressions (20 points)"
   ]
  },
  {
   "cell_type": "markdown",
   "metadata": {},
   "source": [
    "## Learning objectives\n",
    "In this question you will:\n",
    "\n",
    "- Use the basic expressions of special relativity to prove some important results"
   ]
  },
  {
   "cell_type": "markdown",
   "metadata": {},
   "source": [
    "### 4a. (Thomson problem 2.3)"
   ]
  },
  {
   "cell_type": "markdown",
   "metadata": {},
   "source": [
    "Show that the process $\\gamma \\rightarrow e^+e^-$ cannnot occure in the vacuum.  (Hint:  This is easiest to prove in the $e^+e^-$ rest frame)"
   ]
  },
  {
   "cell_type": "markdown",
   "metadata": {},
   "source": [
    "#Write your answer here"
   ]
  },
  {
   "cell_type": "markdown",
   "metadata": {},
   "source": [
    "### 4b. (Thomson problem 2.14)"
   ]
  },
  {
   "cell_type": "markdown",
   "metadata": {},
   "source": [
    "Consider the Compton scattering of a photon of momentum $\\vec k$ and energy $E=|\\vec k|$ from an electron at rest.  Writing the four-momentum of the scattered photon and electron respectively as k' and p', conservation of four moment is expressed as $$k+p=k'+p'$$  Use the relationship $$p'2 = m_e^2$$ to show that the enegy of the scattered photon is given by \n",
    "$$\n",
    "E' = \\frac{E}{1+(E/m_e)(1-\\cos \\theta )}\n",
    "$$\n",
    "where $\\theta$ is the angle through which the photon is scattered"
   ]
  },
  {
   "cell_type": "raw",
   "metadata": {},
   "source": [
    "#Write your answer here"
   ]
  },
  {
   "cell_type": "markdown",
   "metadata": {},
   "source": [
    "## Question 5: Kinematics in 2-body particle decays (20 points)"
   ]
  },
  {
   "cell_type": "markdown",
   "metadata": {},
   "source": [
    "## Learning objectives\n",
    "In this question you will:\n",
    "\n",
    "- Derive a relativistic expression that we will use often during the semester"
   ]
  },
  {
   "cell_type": "markdown",
   "metadata": {},
   "source": [
    "For the decay $a\\rightarrow 1+2$, show that the mass of particle $a$can be written:\n",
    "    $$\n",
    "    m_a^2 = m_1^2 + m_2^2 + 2 E_1E_2 \\left ( 1-\\beta_1\\beta_2 \\cos\\theta \\right )\n",
    "    $$\n",
    "    where $\\beta_1$ and $\\beta_2$ are the velocities of the particles and $\\theta$ is the angle between them"
   ]
  },
  {
   "cell_type": "markdown",
   "metadata": {},
   "source": [
    " #Write your answer here"
   ]
  }
 ],
 "metadata": {
  "kernelspec": {
   "display_name": "Python 3 (ipykernel)",
   "language": "python",
   "name": "python3"
  },
  "language_info": {
   "codemirror_mode": {
    "name": "ipython",
    "version": 3
   },
   "file_extension": ".py",
   "mimetype": "text/x-python",
   "name": "python",
   "nbconvert_exporter": "python",
   "pygments_lexer": "ipython3",
   "version": "3.9.13"
  }
 },
 "nbformat": 4,
 "nbformat_minor": 4
}
