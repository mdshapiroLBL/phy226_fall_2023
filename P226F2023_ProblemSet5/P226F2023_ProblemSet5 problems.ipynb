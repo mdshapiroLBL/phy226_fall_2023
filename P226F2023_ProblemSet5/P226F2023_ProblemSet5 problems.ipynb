{
 "cells": [
  {
   "cell_type": "markdown",
   "id": "0",
   "metadata": {},
   "source": [
    " # Physics 226 Fall 2023 Problem Set 5 Due Sunday Oct 1"
   ]
  },
  {
   "cell_type": "markdown",
   "id": "1",
   "metadata": {},
   "source": [
    "## Question 1:  A Monte Carlo Model of Electromagnetic Showers (40 points)"
   ]
  },
  {
   "cell_type": "markdown",
   "id": "2",
   "metadata": {},
   "source": [
    "### Learning objectives\n",
    "In this question you will:\n",
    "- Gain experience using Monte Carlo methods to model physical processes, understand the physics of electromagnetic shower development"
   ]
  },
  {
   "cell_type": "markdown",
   "id": "0041ef1d",
   "metadata": {},
   "source": [
    "In order to understand how their detectors respond, particle physicists use complex simulations.  These simulations take as their input Monte Carlo generated events, propagate the particles in these events through a model of the detector and simulate the response.  The output of the simulation is written in the same format as the real data and is used to understand the experiment's acceptance and resolution. Proper modeling of the detector response requires detailed understanding of the physics of particle interactions with matter.  Today, most experiments use a simulation toolkit, called Geant4, to model this physics. In this problem, you will write your own Monte Carlo simulation of electromagnetic showers and use it to describe shower development in the CMS electromagnetic calorimeter (ECAL).  A description of the CMS ECAL can be found at:\n",
    "\n",
    "https://cms.cern/detector/measuring-energy/energy-electrons-and-photons-ecal\n",
    "                                                                                                                                                                                                                 "
   ]
  },
  {
   "cell_type": "markdown",
   "id": "4",
   "metadata": {
    "flags": [
     "problems",
     "solutions"
    ]
   },
   "source": [
    "## 1a\n",
    "Write a Monte Carlo simulation that predicts the longitudinal development of an electromagnetic shower in the CMS ECAL.  The final answer should be a plot that looks roughly like the black circles in *Figure 34.20 of the PDG Review of the Passage of Particles through Matter*:\n",
    "\n",
    "<img src=\"pdgFig34_20.png\" alt=\"Drawing\" style=\"width: 600px;\"/>\n",
    "\n",
    "but where the horizontal axis is the distance in cm from the front face of the calorimeter and the vertical axis is the average number of charged particles crossing a plane at that distance. To understand how the shower development depends on energy, make this plot for E=1 GeV and E=10 GeV electrons and compare the distance at which the maximum occurs. In order to keep the statistical\n",
    "uncertainties small, generate 1000 events at each energy.\n",
    "\n",
    "\n",
    "You will need to make a number of simplifying assumptions in your model:\n",
    "\n",
    "- Describe the calorimeter as a uniform  crystal of lead tungstate, 23 cm deep.  Assume electrons hit the front face of the crystal with fixed energy $E$ and normal to the surface.\n",
    "- Real EM showers develop in 3-dimensions, for this problem use a 1-dimensional model and ignore the transverse spreading of the shower.\n",
    "- Electrons lose energy by bremsstrahlung.  The mean distance over which a high energy electron loses all but $1/e$ of its energy is called the radiation length $X_0$. The bremsstrahlung spectrum of the emitted photons is peaked at low photon energy. While the true bremsstrahlung process is continuous, for this problem make the *unrealistic* approximation that the energy loss is a discrete process that occurs at random positions $x$ along the electron trajectory. In other words, the probability of a discrete bremmstahlung occuring in distance $dx$ is assumed to be\n",
    "$$                                                                                                                                                \n",
    "dP \\equiv \\frac{dN}{N} = - \\frac{dx}{X_0}                                                                                                         \n",
    "$$\n",
    "To simplify the calculation, also make the _unrealistic_ assumption that whenever the bremsstahlung occurs the energy is divided equally between the the outgoing electron and photon.\n",
    "- When charged particles travel through matter, they lose energy via ionization. The distribution of energy loss per unit distance is a Landau distribution, with a mean that depends on the particle's velocity. Assume for this problem that the ionization energy loss per cm is constant, with the value for lead tungstate taken from the PDG *Atomic and nuclear properties of materials*. If a charged particle ($e^+$ or $e^-$) loses enough energy via ionization to stop in the crystal, then it will just be absorbed in the material. (In the real world, charged particles have a Bragg peak in their energy loss as they stop. We will ignore that effect here).\n",
    "-  Photons lose energy via Compton scattering, photo-nuclear interactions and pair production.  Assume for this problem that pair production is the only process that matters and that the probability of pair production occuring distance between $x$  and $x+dx$ is $$dP = \\frac{dx}{9/7 X_0}$$ Also *unrealistically* assume that the $e^+$ and $e^-$  produced always share the energy of the photon equally.  Make the approximation that  the electron is massless.\n",
    "\n",
    "Note:  if you need advice on how to code this in Python, please come to Kenny's or the Python Peer Tutor's office hours."
   ]
  },
  {
   "cell_type": "code",
   "execution_count": 5,
   "id": "5072d3ec",
   "metadata": {},
   "outputs": [],
   "source": [
    "# Write your answer here"
   ]
  },
  {
   "cell_type": "markdown",
   "id": "11",
   "metadata": {},
   "source": [
    "### 1b\n",
    "In Part a you calculated the number of charged observed at a depth $d$ from the front of the calorimeter.  If we integrate that distribution, we obtain the total path length of  ioniation in our shower.  This path length should be proportional to the incident electron energy.  Since calorimeters measure the ionization energy deposited, they are in practice measuring this path length with some overall calibration factor that depends on the performance of the calorimeter.\n",
    "\n",
    "The next step is to calibrate our calorimeter.  Suppose the calorimeter you simulated above is placed in a test beam.  Separate calibration runs with energies of 1.0, 2.0, 5.0, 10.0, 50 and 100 GeV are taken.  This calibration relates the measured ionization path length to the incident energy.  \n",
    "\n",
    "Run your simulation from part a for the test beam energies listed above.  Analyze these data to demonstrate that there is a the linear relationship between the path length of ionization and the incident energy. \n",
    "\n",
    "Note:  The 50 GeV and 100 GeV showers will be slow to generate.  Consider adding some printout to your code just so that you know that it is progressing."
   ]
  },
  {
   "cell_type": "code",
   "execution_count": 6,
   "id": "13",
   "metadata": {},
   "outputs": [],
   "source": [
    "#Write your answer here"
   ]
  },
  {
   "cell_type": "markdown",
   "id": "a484c5aa",
   "metadata": {},
   "source": [
    "### 1c \n",
    "Show that the \"shower max\" position (the depth in the calorimeter where the number of ionizing particles is at its maximum) increases approximately with the log of the incident energy"
   ]
  },
  {
   "cell_type": "code",
   "execution_count": 7,
   "id": "c6ae701a",
   "metadata": {},
   "outputs": [],
   "source": [
    "# Write your answer here"
   ]
  },
  {
   "cell_type": "markdown",
   "id": "6aa58a6d",
   "metadata": {},
   "source": [
    "## Question 2: Isospin: $\\pi N$ scattering (15 Points)\n",
    "\n",
    "### Learning objectives\n",
    "In this question you will:\n",
    "- Review how conservation of isospin in the strong interactions can be used to related scattering rates for different processes related by isospin\n",
    "- Apply this concept to pion nucleon scattering\n",
    "\n",
    "Consider the scattering of a pion with a nucleon.  Since the pion has $I=1$ and the nucleon has $I=\\frac{1}{2}$, there are two possible values of total isospin for this scattering:  $I=\\frac{3}{2}$ and $I=\\frac{1}{2}$.  Isospin conservation in the strong interactions means that the matrix element $H_{if} = \\left < f \\right | H_{int} \\left  | i \\right >$ (where $i$ and $f$ are the initial and final states) depends only on $I$ and not on $I_z$.  \n",
    "\n",
    "There are six possible *elastic scattering* processes:\n",
    "\n",
    "\\begin{eqnarray*}\n",
    "\\pi^{+} p  & \\rightarrow & \\pi^{+} p \\\\\n",
    "\\pi^{0} p  & \\rightarrow & \\pi^{0} p \\\\\n",
    "\\pi^{-} p  & \\rightarrow & \\pi^{-} p \\\\\n",
    "\\pi^{+} n  & \\rightarrow & \\pi^{+} n \\\\\n",
    "\\pi^{0} n  & \\rightarrow & \\pi^{0} n \\\\\n",
    "\\pi^{-} n  & \\rightarrow & \\pi^{-} n \\\\\n",
    "\\end{eqnarray*}\n",
    "\n",
    "And four possible *charge exchange* processes:\n",
    "\n",
    "\\begin{eqnarray*}\n",
    "\\pi^{+} n & \\rightarrow & \\pi^{-} p \\\\\n",
    "\\pi^{0} p & \\rightarrow & \\pi^{+} n \\\\\n",
    "\\pi^{-} p & \\rightarrow & \\pi^{0} n \\\\\n",
    "\\pi^{0} n & \\rightarrow & \\pi^{-} p \\\\\n",
    "\\end{eqnarray*}\n",
    "\n",
    "\n",
    "Since all 10 of these processes have the same phase space terms, the relative rates for the processes can be calculated in terms of only two independent terms: $M_{\\frac{1}{2}} = \\left < I=\\frac{1}{2}\\right | H_{int} \\left | I= \\frac{1}{2}\\right >$ and $M_{\\frac{3}{2}} = \\left < I=\\frac{3}{2}\\right | H_{int} \\left | I= \\frac{3}{2}\\right >$\n",
    "\n",
    "### 2a.\n",
    "\n",
    "For the state $\\pi^+ p$ we can describe the isospin of the state in the uncoupled and coupled bases:\n",
    "$$\n",
    "\\left |m_1=+1, m_2=\\frac{1}{2} \\right > = \\left |I=\\frac{3}{2}, m=\\frac{3}{2} \\right >\n",
    "$$\n",
    "The decomposition for the $\\pi^- p$ and $\\pi^0 n$ states are derived on page 7 of the lecture 9 slides.\n",
    "For the other three possible $\\pi N$ charge combinations (corresponding to the left hand side of the elastic scattering interactions listed above), write the description of the isospin state using the same nomenclature.  You may look up the Clebsch-Gordon coefficients in a Clebsch-Gordon table.\n",
    "\n"
   ]
  },
  {
   "cell_type": "markdown",
   "id": "ebdac8ce",
   "metadata": {},
   "source": [
    "Write your answer here"
   ]
  },
  {
   "cell_type": "markdown",
   "id": "85977549",
   "metadata": {},
   "source": [
    "### 2b.\n",
    "\n",
    "Using the results from 2a. and the fact that the scatttering cross sections are proportional to $\\left |H_{if} \\right |^2$ calculate the ratios of the cross sections for the following processes:\n",
    "\n",
    "\\begin{eqnarray*}\n",
    "(a) & & \\frac{\\sigma(\\pi^{-} p\\rightarrow \\pi^{-} p)}{\\sigma(\\pi^{+} p\\rightarrow \\pi^{+} p)} \\\\\n",
    "(b) & & \\frac{\\sigma(\\pi^{-} p\\rightarrow \\pi^{0} n)}{\\sigma(\\pi^{-} p\\rightarrow \\pi^{-} p)}\\\\\n",
    "(c) & & \\frac{\\sigma(\\pi^{0} n\\rightarrow \\pi^{-} p)}{\\sigma(\\pi^{0} n\\rightarrow \\pi^{0} n)}\n",
    "\\end{eqnarray*}\n",
    "\n",
    "Express your answers in terms of $M_{\\frac{1}{2}}$ and $M_{\\frac{3}{2}}$\n"
   ]
  },
  {
   "cell_type": "markdown",
   "id": "d7795f92",
   "metadata": {},
   "source": [
    "Write your answer here"
   ]
  },
  {
   "cell_type": "markdown",
   "id": "28c1fedb",
   "metadata": {},
   "source": [
    "\n",
    "## Question 3: Isospin:  The $\\Delta$ resonance (Thomson 9.3) (10 points)\n",
    "\n",
    "### Learning objectives\n",
    "In this question you will:\n",
    "- Review the fact that isospin conservation in the strong interaction can also be used to relate decay rates\n",
    "- Apply this concept to the case od $\\Delta$ decays\n",
    "\n",
    "By considering the isospin states show that the rates for the following strong interaction decays occur in the ratios:\n",
    "$$\n",
    "\\begin{array}{cccc}\n",
    "\\Gamma(\\Delta^{-} \\rightarrow \\pi^{-} n) : &\n",
    "\\Gamma(\\Delta^{0} \\rightarrow \\pi^{-} p) : & \n",
    "\\Gamma(\\Delta^{0} \\rightarrow \\pi^{0} n) : & \n",
    "\\Gamma(\\Delta^{+} \\rightarrow \\pi^{+} n) : \\\\\n",
    " \\Gamma(\\Delta^{+} \\rightarrow \\pi^{0} p) : & \n",
    "\\Gamma(\\Delta^{++} \\rightarrow \\pi^{+} p)  & \n",
    "= &   3:1:2:1:2:3 &  \\\\\n",
    "\\end{array}\n",
    "$$\n",
    "\n",
    "Note:  Because the $\\Delta$ can be created in $\\pi^+ p$ scattering, we know that it has isospin $I=\\frac{3}{2}$\n",
    "\n"
   ]
  },
  {
   "cell_type": "markdown",
   "id": "79f1a823",
   "metadata": {},
   "source": [
    "Write your answer here"
   ]
  },
  {
   "cell_type": "markdown",
   "id": "d7aac0a7",
   "metadata": {},
   "source": [
    "\n",
    "## Question 4 Parity and Charge Conjugation and Isopin Symmetry (25 points)\n",
    "\n",
    "### Learning objectives\n",
    "In this question you will:\n",
    "- Use the concepts of Parity, Charge Conjugation Symmetry and Isopin to deduce properties of specific hadrons \n",
    "\n"
   ]
  },
  {
   "cell_type": "markdown",
   "id": "34596a77",
   "metadata": {},
   "source": [
    "### 4a\n",
    "The $\\eta^0(549)$ meson has charge 0 and spin 0 and is observed to decay in the modes\n",
    "\n",
    "$$\n",
    "\\eta \\rightarrow \\pi^0\\pi^0\\pi^0\\; {\\rm and} \\; \\eta \\rightarrow \\pi^+\\pi^-\\pi^0\n",
    "$$\n",
    "\n",
    "Using this information, deduce the charge conjugation (C) and parity (P) quantum numbers of the $\\eta$ meson and explain why the two body decay\n",
    "\n",
    "$$\n",
    "\\eta \\rightarrow \\pi^0 \\pi^0 \\; {\\rm and} \\; \\eta \\rightarrow \\pi^+\\pi^0\n",
    "$$\n",
    "\n",
    "have never been observed.\n"
   ]
  },
  {
   "cell_type": "markdown",
   "id": "31af0c1d",
   "metadata": {},
   "source": [
    "Write your answer here"
   ]
  },
  {
   "cell_type": "markdown",
   "id": "83a86a21",
   "metadata": {},
   "source": [
    "### 4b\n",
    "The $\\eta$ exists only in a charge=0 state, indicating that it has isospin $I=0$.  It has a deay width $ \\Gamma = 1.31 \\pm 0.05 $ keV, 5 orders of magnitude smaller than a typical strong decay.  Use isospin arguments to show that the $\\eta$ cannot decay strongly.  Note: the decay $\\eta\\rightarrow 2\\gamma$ has a branching ratio of 39\\%, which also indicates that the decay is eletromagnetic.\n",
    "\n",
    "Hints:  \n",
    "- Mesons are bosons and therefore must have symmetric wave functions under interchange\n",
    "- The charge conjugation operator acting on the $\\pi^+\\pi^-$ state gives:\n",
    "$$\n",
    "C|\\pi^+>|\\pi^-> = +1 |\\pi^->|\\pi^+>\n",
    "$$\n",
    "- Strong interactions conserve isospin.  EM interactions do not conserve isospin but stil conserve the 3rd component of isospin $I_3$.\n"
   ]
  },
  {
   "cell_type": "markdown",
   "id": "a104cca3",
   "metadata": {},
   "source": [
    "Write your answer here"
   ]
  },
  {
   "cell_type": "markdown",
   "id": "1fbff33e",
   "metadata": {},
   "source": [
    "\n",
    "### 4c\n",
    "\n",
    "Starting with the fact that the $\\rho$ meson has $J^{PC }=1^{--}$,\n",
    "state which of the following decays of the $\\rho$  are allowed by the strong interaction and give your reasons why or why not:\n",
    "\n",
    "- $\\rho \\rightarrow \\pi^+ \\pi^-$\n",
    "- $\\rho \\rightarrow \\pi^0 \\pi^0$\n",
    "- $\\rho \\rightarrow \\eta^0 \\pi^0$\n"
   ]
  },
  {
   "cell_type": "markdown",
   "id": "61d4a5cf",
   "metadata": {},
   "source": [
    "Write your answer here"
   ]
  },
  {
   "cell_type": "markdown",
   "id": "a5cd663d",
   "metadata": {},
   "source": [
    "## Question 5: $\\Lambda^{0} $ polarization in the strong interactions (10 points) \n",
    "\n",
    "### Learning objectives\n",
    "In this question you will:\n",
    "\n",
    "- Apply the concept of parity conservation in the strong interactions to determine what functional forms are allowed for a specific observable (the polarization)\n",
    "\n",
    "Consider the production of $\\Lambda$ particles via a strong interaction:\n",
    "\n",
    "$$\n",
    "p + p \\rightarrow \\Lambda^{0} + X\n",
    "$$\n",
    "\n",
    "where $X$ represents one of more additional final state particles that are not necessarily observed. Assume that the $\\Lambda^{0}$ and  $X$ each have the same parity as the proton. Also assume that the initial protons are unpolarized.   In the center-of-mass frame, the momentum vectors of the two protons and the $\\Lambda^{0}$ all lie in a plane, called the production plane:\n",
    "\n",
    "<img src=\"productionPlane.png\" alt=\"Drawing\" style=\"width: 600px;\"/>\n",
    "\n",
    "It has been observed that $\\Lambda^{0}$ (which are spin 1/2 particles) are polarized.  This means that the expectation value  $\\left < \\vec S_{\\Lambda} \\cdot \\hat n\\right > \\ne 0$ for certain unit vectors $\\hat n$.  Here $\\vec S_{\\Lambda}$ is the spin vector of the $\\Lambda^{0}$.  \n",
    "\n",
    "In this problem, you will determine what possible directions $\\hat n$ can have.\n",
    "\n",
    "### 5a. \n",
    "\n",
    "Show that if $\\hat n$ lies in the production plane, then $\\left < \\vec S_{\\Lambda} \\cdot \\hat n\\right > = 0$ if parity is conserved \n"
   ]
  },
  {
   "cell_type": "markdown",
   "id": "5a8b66cc",
   "metadata": {},
   "source": [
    "Write your answer here"
   ]
  },
  {
   "cell_type": "markdown",
   "id": "88750f1a",
   "metadata": {},
   "source": [
    "### 5b. \n",
    "\n",
    "Show that a non-zero value of $\\left < \\vec S_{\\Lambda} \\cdot \\hat n\\right > $ is possible if $\\hat n$ is perpendicular to the production plane\n"
   ]
  },
  {
   "cell_type": "markdown",
   "id": "6eebc934",
   "metadata": {},
   "source": [
    "Write your answer here"
   ]
  },
  {
   "cell_type": "markdown",
   "id": "b64f489e",
   "metadata": {},
   "source": [
    "\n",
    "###  Hints:\n",
    "\n",
    "1) Work in the center-of-mass frame since this is where the production plane is defined.  For each of the two cases (in the production plane and out of the production plane), the direction of the unit vector $\\hat n$ can be written as an expression that depends the 3-momenta of the specified particles or vector or scalar products of these three momenta.\n",
    "\n",
    "2) In the center of mass frame of two unpolarized colliding particles of the same species, the scattering rate must be be a symmetric function of $\\cos \\theta^*$ (the polar angle with respect to the $pp$ direction) since there is no distinction between the forward and backward directions.  \n"
   ]
  }
 ],
 "metadata": {
  "kernelspec": {
   "display_name": "Python 3 (ipykernel)",
   "language": "python",
   "name": "python3"
  },
  "language_info": {
   "codemirror_mode": {
    "name": "ipython",
    "version": 3
   },
   "file_extension": ".py",
   "mimetype": "text/x-python",
   "name": "python",
   "nbconvert_exporter": "python",
   "pygments_lexer": "ipython3",
   "version": "3.9.15"
  }
 },
 "nbformat": 4,
 "nbformat_minor": 5
}
