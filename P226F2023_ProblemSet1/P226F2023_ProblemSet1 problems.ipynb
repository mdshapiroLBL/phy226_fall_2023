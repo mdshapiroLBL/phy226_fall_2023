{
 "cells": [
  {
   "cell_type": "markdown",
   "metadata": {
    "colab_type": "text",
    "id": "naAnuth1-TXQ"
   },
   "source": [
    "# Physics 226 Problem Set 1:  Due Friday Sept 1 11:59PM"
   ]
  },
  {
   "cell_type": "markdown",
   "metadata": {
    "colab_type": "text",
    "id": "LEbqTRrN-TXT"
   },
   "source": [
    "## Question 1: Lagrangians and Dimensional Analysis (27 points)"
   ]
  },
  {
   "cell_type": "markdown",
   "metadata": {
    "colab_type": "text",
    "id": "f6EDnJYA_6UP"
   },
   "source": [
    "### Learning objectives\n",
    "In this question you will:\n",
    "* Learn what the natural units are forthe Lagrangian, the Lagrangian density and the action\n",
    "* Review the form of the Lagrangian for scalar and fermion fields\n"
   ]
  },
  {
   "cell_type": "markdown",
   "metadata": {
    "colab_type": "text",
    "id": "pAOdqM6w_o3v"
   },
   "source": [
    "It is convenient to choose a set of units such that $\\hbar = c = 1$.  In such units, mass ($m$), momentum ($mc$) and energy ($mc^2$) are expressed in units of GeV and length ($\\hbar /mc$) and time ($\\hbar/mc^2$) are expressed in units of $\\textrm{ GeV}^{-1}$.\n"
   ]
  },
  {
   "cell_type": "markdown",
   "metadata": {
    "colab_type": "text",
    "id": "fRgZu-1g_eSL"
   },
   "source": [
    "### 1a."
   ]
  },
  {
   "cell_type": "markdown",
   "metadata": {
    "colab_type": "text",
    "id": "c4HrnBi4BLb1"
   },
   "source": [
    " Show that in these units, using $m$ to denote the mass of the electron:\n",
    "\n",
    "- The Compton wavelength of an electron is: $m^{-1}$\n",
    "\n",
    "- The Bohr radius of the hydrogen atom is: $(\\alpha m)^{-1}$\n",
    "\n",
    "- The velocity of an electron in its lowest Bohr orbit is: $\\alpha$\n",
    "\n",
    "Note:  You do not need to derive formulae for these quantities, but instead can just quote results from your quantum mechanics class."
   ]
  },
  {
   "cell_type": "markdown",
   "metadata": {
    "colab_type": "text",
    "id": "eFB5B0WI9_NQ"
   },
   "source": [
    "Write your answer here."
   ]
  },
  {
   "cell_type": "markdown",
   "metadata": {
    "colab_type": "text",
    "id": "XzdgqLvbFUoB"
   },
   "source": [
    "### 1b."
   ]
  },
  {
   "cell_type": "markdown",
   "metadata": {
    "colab_type": "text",
    "id": "g9OK3pVxBY-c"
   },
   "source": [
    "In Classical Mechanics, the *Lagrangian* is a useful quantity that helps encapsulate the dynamics of a system via the Euler-Lagrange equations. In a classical system, the Lagrangian can often be expressed as $$ L = T - V$$ where $T$ is the kinetic energy of the system and $V$ is the potential energy of the system. The action, S, of a trajectory is defined as the integral of the Lagrangian with respect to time during the trajectory, i.e. $$ S = \\int L \\hspace{0.05in} dt $$\n",
    "\n",
    "**Find the dimensions of $S$ and $L$ in natural units. Hint: What are the units of $\\hbar$?**\n",
    "\n",
    "Now, according to special relativity, we should treat space and time on equal footing. In natural units, this is quite easy, since converting from one to the other amounts to multiplying or dividing by $c$, which we have set to 1. Thus, we should re-write the action as an integral over all four space-time dimensions. To do this, we introduce the *Lagrangian density* $\\mathcal{L}$, which is defined by: $$L = \\int \\mathcal{L \\hspace{0.05in}} d^3x $$\n",
    "\n",
    "**Rewrite the action in terms of the Lagrangian density. What are the dimensions of the Lagrangian density?**\n",
    "\n",
    "Note: In particle physics, the Lagrangian density is extremely important! In fact, it is so important that we often just called it \"the Lagrangian,\" making the distinction between $L$ and $\\mathcal{L}$ a matter of absolute confusion. Lucky us! Nonetheless, we will focus on the Lagrangian density $\\mathcal{L}$."
   ]
  },
  {
   "cell_type": "markdown",
   "metadata": {
    "colab_type": "text",
    "id": "fovmY78w9-Oz"
   },
   "source": [
    "Write your answer here."
   ]
  },
  {
   "cell_type": "markdown",
   "metadata": {},
   "source": [
    "### 1c."
   ]
  },
  {
   "cell_type": "markdown",
   "metadata": {},
   "source": [
    "In this course, we will later examine the equations governing relativistic particle dynamics in detail. For now, you will have to take them as a given. Recall that there exist two categories of elementary particles: fermions, with half-integer spin, and bosons, with integer spin. In particle physics, we take the perspective that particles are really excitations of fields which exist throughout all of space-time. Let's start with the simplest quantum field - a scalar field. At every point in space-time $x^\\mu$, this field takes on a real value, $\\phi(x^\\mu)$. Since this is a scalar field, and spin is a vector quantity, this field must represent a spin 0 particle, a so-called \"scalar boson.\" The Lagrangian of this field is:  $$\\mathcal{L} = \\frac{1}{2}\\left(\\frac{\\partial\\phi}{\\partial t}\\right)^2 - \\frac{1}{2}(\\vec{\\nabla}\\phi)^2 -\\frac{1}{2} m^2\\phi^2 = \\frac{1}{2}\\eta^{\\mu\\nu}\\partial_\\mu\\phi\\partial_\\nu\\phi -\\frac{1}{2}m^2\\phi^2 $$.\n",
    "\n",
    "Here, $\\eta^{\\mu\\nu}$ is the Minkowski metric Diag\\{1,-1,-1,-1\\} and $\\mu,\\nu$ parameterize the 4 space-time indices over which we sum. **What are the dimensions of this scalar field? Use the Euler-Lagrange Equations to vary the action and find the equation of motion for this scalar field. What familiar partial differential equation does this look like?**\n",
    "\n",
    "The equation of motion you derived is known as the Klein-Gordon Equation. Fun fact: Schr\\\"odinger actually came up with this equation when he tried to make his theory relativistic, but he did not publish it!\n",
    "\n",
    "In contrast, fermions, which are required to have non-zero spin, are represented mathematically as \\textit{spinor} fields. This means that every point in space-time is associated with a 4-dimensional \"spinor,\" which is similar to a vector but with some particular transformation properties. The Lagrangian for fermions looks like this:\n",
    "\n",
    "$$\\mathcal{L} = i\\overline{\\psi}\\gamma^\\mu\\partial_\\mu\\psi - m\\overline{\\psi}{\\psi}$$\n",
    "\n",
    "Here, $\\gamma^\\mu$ is a set of 4 different $4\\times4$ matrices and the $\\mu$ represents the 4 space-time indices that we sum over. For our purposes, you can just treat them as unitless numbers. **What are the dimensions of this fermion field? Use the Euler-Lagrange equations to find the equation of motion for this fermion field. Hint: Vary the action with respect to $\\bar{\\psi}$ to give you an equation of motion for $\\psi$.**\n",
    "\n",
    "This equation of motion is known as the Dirac equation, and it is one of the more important equations in particle physics. We will explore this equation more in detail in the future!"
   ]
  },
  {
   "cell_type": "markdown",
   "metadata": {},
   "source": [
    "Write your answer here."
   ]
  },
  {
   "cell_type": "markdown",
   "metadata": {},
   "source": [
    "### 1d."
   ]
  },
  {
   "cell_type": "markdown",
   "metadata": {},
   "source": [
    "Let us now explore a real particle interaction. We will start with what we call an \"effective field theory.\" At sufficiently low energies, this theory is sufficient to describe the interaction, however it breaks down at higher energies. The (arguably) most well-known example of an effective field theory is Fermi's Theory of Beta decay. In this theory, a neutron decays into a proton and an electron as well as a light, neutral electron *anti-neutrino.* See the corresponding Feynman diagram [here](https://https://www.quantumdiaries.org/wp-content/uploads/2011/10/fourFermi_BetaDecay.png).\n",
    "\n",
    "The Lagrangian for this interaction must be proportional to the product of the four fields. Here we use $u$ instead of $\\psi$ for the fields and notate the particle with a subscript. The Lagrangian must have the form:\n",
    "\n",
    "$$ \\mathcal{L} \\propto (\\overline{u}_p\\gamma_\\mu u_n)(\\overline{u}_e\\gamma^\\mu u_\\overline{\\nu})$$\n",
    "\n",
    "For now, the notation might feel unfamiliar, so let's break it down. We use $u$ and $\\overline{u}$ to represent the spinor fields of the fermions at play. *Spinor fields of incoming anti-particles and outgoing particles get bars over the $u$'s. Spinor fields of incoming particles and outgoing anti-particles do not get bars.* The subscripts $p, n, e, \\overline{\\nu}$ refer to the proton, neutron, electron, and anti-neutrino respectively. The $\\gamma$'s again refer to a set of 4 $\\times$ 4 matrices, and the $\\mu$ still represents the 4 space-time indices that we sum over. **Using what you know about fermion fields, what must the dimension of the constant of proportionality be in the Fermi theory?** This constant of proportionality is called the Fermi constant, and it is quite important in Weak interaction physics."
   ]
  },
  {
   "cell_type": "markdown",
   "metadata": {},
   "source": [
    "Write your answer here."
   ]
  },
  {
   "cell_type": "markdown",
   "metadata": {
    "colab_type": "text",
    "id": "UUtHtLcd-vOv"
   },
   "source": [
    "## Question 2: Navigating the Particle Data Group Web Pages (16 points)"
   ]
  },
  {
   "cell_type": "markdown",
   "metadata": {
    "colab_type": "text",
    "id": "jaKIv9ZxDOsp"
   },
   "source": [
    "### Learning objectives\n",
    "In this question you will:\n",
    "\n",
    "- Explore the particle data group web pages and learn to learn what type of information is available\n",
    "- Learn some basic particle physics facts\n"
   ]
  },
  {
   "cell_type": "markdown",
   "metadata": {
    "colab_type": "text",
    "id": "DLiYcmJ9Dj6I"
   },
   "source": [
    "The Particle Data Group maintains an excellent web site with a compilation of useful information about particle physics.  This information is also available in printed form for free if you write to them. The PDG web address is:\n",
    "https://pdg.lbl.gov/index.html\n",
    "\n",
    "The following questions can be answered just by looking up information on these web pages.  They will familiarize you with the pages and also teach you some basic particle physics facts.  (**Hint**:  The first two parts can be answered by looking in the Summary Tables.  The third uses information from available the plots of measured cross sections accessible under Reviews, Tables and Plots)\n"
   ]
  },
  {
   "cell_type": "markdown",
   "metadata": {
    "colab_type": "text",
    "id": "7CkqOeIQDxKO"
   },
   "source": [
    "### 2a."
   ]
  },
  {
   "cell_type": "markdown",
   "metadata": {
    "colab_type": "text",
    "id": "akLebvBHDGRq"
   },
   "source": [
    "What are the masses of:\n",
    "- the lightest known meson\n",
    "- the lightest Spin 1 meson\n",
    "-  the lightest meson that carries a strangeness quantum number of 1?\n"
   ]
  },
  {
   "cell_type": "markdown",
   "metadata": {
    "colab_type": "text",
    "id": "_SA80mZn-BQu"
   },
   "source": [
    "Write your answer here."
   ]
  },
  {
   "cell_type": "markdown",
   "metadata": {
    "colab_type": "text",
    "id": "_9hn5yKdEC1v"
   },
   "source": [
    "### 2b."
   ]
  },
  {
   "cell_type": "markdown",
   "metadata": {
    "colab_type": "text",
    "id": "9cPdslZeEHuR"
   },
   "source": [
    "The $\\Lambda $ is a baryon that decays weakly. What is its mass and what is the lifetime of the $\\Lambda$?  What are the two most common decay modes of the $\\Lambda$ and fraction of the time does it decay into each of these two modes?\n"
   ]
  },
  {
   "cell_type": "markdown",
   "metadata": {
    "colab_type": "text",
    "id": "44dOaM0k-Bwi"
   },
   "source": [
    "Write your answer here."
   ]
  },
  {
   "cell_type": "markdown",
   "metadata": {
    "colab_type": "text",
    "id": "QtPUfoZkEOuJ"
   },
   "source": [
    "### 2c."
   ]
  },
  {
   "cell_type": "markdown",
   "metadata": {
    "colab_type": "text",
    "id": "_TkcbOF9ESV0"
   },
   "source": [
    "Consider the interaction $\\pi^+ p\\rightarrow \\pi^+p$ ($\\pi p$ elastic scattering).  What is the experimentally measured cross section for each of the following center-of-mass energies: 1.2 GeV, 3 GeV, 6 GeV?  How do these numbers compare to the total $\\pi^+ p$ cross section ($\\pi p \\rightarrow anything$) at each of these energies?\n"
   ]
  },
  {
   "cell_type": "markdown",
   "metadata": {
    "colab_type": "text",
    "id": "opH3KtAH-CZm"
   },
   "source": [
    "Write your answer here."
   ]
  },
  {
   "cell_type": "markdown",
   "metadata": {
    "colab_type": "text",
    "id": "ptCAdK-L-TX0"
   },
   "source": [
    "## Question 3:  Standard Model Vertices (32 points)"
   ]
  },
  {
   "cell_type": "markdown",
   "metadata": {
    "colab_type": "text",
    "id": "Blp2IhSf-TX1"
   },
   "source": [
    "### Learning objectives\n",
    "In this question you will:\n",
    "\n",
    "- Understand how Feynman diagrams can be used to describe the interaction of fermions with gauge bosons\n",
    "- Learn which the Standard Model vertices are allowed and which are forbidden"
   ]
  },
  {
   "cell_type": "markdown",
   "metadata": {
    "colab_type": "text",
    "id": "MYm-bsY7-TX3"
   },
   "source": [
    "This problem is taken from Thomson (Problem 1.1):"
   ]
  },
  {
   "cell_type": "markdown",
   "metadata": {},
   "source": [
    "Feynman diagrams are constructed out of the Standard Model vertices shown in\n",
    "Figure 1.4 of Thomson and on pages 14, 17 and 18 of the Lecture 1 slides. Only the weak charged-current ($W_{\\pm}$) interaction can change the flavour of the particle at the interaction vertex. Explaining your reasoning, state whether each of the sixteen diagrams below represents a valid Standard Model vertex."
   ]
  },
  {
   "cell_type": "markdown",
   "metadata": {},
   "source": [
    "\n",
    "<img src=\"Thomson_1_1.png\" alt=\"Drawing\" style=\"width:550px;\"/>\n"
   ]
  },
  {
   "cell_type": "markdown",
   "metadata": {
    "colab": {},
    "colab_type": "code",
    "id": "z2pncSmU-TX-"
   },
   "source": [
    "Write your answer here"
   ]
  },
  {
   "cell_type": "markdown",
   "metadata": {
    "colab_type": "text",
    "id": "ZgvM5weh-w3h"
   },
   "source": [
    "## Question 4: Rejection Methods (25 points)"
   ]
  },
  {
   "cell_type": "markdown",
   "metadata": {
    "colab_type": "text",
    "id": "5diZhSDj-TXV"
   },
   "source": [
    "#### Learning objectives\n",
    "In this question you will:\n",
    "\n",
    "- sample from arbitrary distributions\n",
    "- estimate the efficiencies of various sampling methods\n"
   ]
  },
  {
   "cell_type": "markdown",
   "metadata": {
    "colab_type": "text",
    "flags": [
     "problems",
     "solutions"
    ],
    "id": "Grb7n9W9-TXY"
   },
   "source": [
    "\n",
    "*Rejection methods* provide another simple but flexible family of techniques to generate continuous random variates sampled from a target probability density function.  The price of simplicity is that on average it might require drawing multiple uniform variates to generate one sample from the target distribution.\n",
    "\n",
    "In the simplest, one-dimensional version, suppose we seek pseudo-random variates sampled from a target PDF $p(x)$, while having (i) access to uniform variates on $[0,1)$, as well as (ii) the ability to draw variates from a \"comparison\" PDF $f(x)$ that, upon suitable re-scaling,  provides an upper bound on $p(x)$, in the sense that $0 \\le p(x) \\le c f(x)$ for all relevant $x$,  for some constant multiplier $c$ satisfying $c \\ge 1$.\n",
    "\n",
    "To generate a trial variate, first we randomly sample a variate $x$ from $f(x)$ (possibly using a transformation or other method, as described).  Then we independently draw a uniform variate $u$ in the range $0 \\le u < 1$, and calculate $y = u c f(x)$.  If $y < p(x)$, then we accept and output $x$ as a sample.  Otherwise, the trial value $x$ is rejected, and this process is repeated (using independent draws) until an acceptable $x$ is eventually obtained.\n",
    "\n",
    "<div style=\"width: 500px;margin: auto\" align=\"center\">\n",
    "    <img src=\"rejection.png\">\n",
    "    Illustration of the rejection method, generating random deviates $x$ drawn from $p(x)$ starting with random deviates $y$ drawn from $f(y)$.\n",
    "</div>\n",
    "\n",
    "Refer to the figure for a a geometric picture.  What is happening is that points are in effect being sampled *uniformly* in that part of the $(x,y)$ plane lying below the curve $p(x)$, by first uniformly sampling in that part of the $(x,y)$ plane below the $c f(x)$ curve, then only keeping the points that also lie below $p(x)$.  The corresponding $x$ coordinates will then be distributed according to the target density $p(x)$. "
   ]
  },
  {
   "cell_type": "markdown",
   "metadata": {
    "colab_type": "text",
    "id": "S3HoHTNx-TXZ"
   },
   "source": [
    "### 4a. "
   ]
  },
  {
   "cell_type": "markdown",
   "metadata": {
    "colab_type": "text",
    "flags": [
     "problems",
     "solutions"
    ],
    "id": "I2ug1f7u-TXa"
   },
   "source": [
    "Show that the overall probability of acceptance of a trial variate is $\\tfrac{1}{c}$, and that the average number of trial variates required per accepted variate is $c$. \n",
    "\n",
    "Let $A$ denote acceptance. $$p(A|x)=\\int du\\:p(A|x,u)p(u)=\\frac{p(x)}{cf(x)}.$$ Thus $$p(A)=\\int dx\\:p(A|x)f(x)=\\int dx\\:\\frac{p(x)}{c}=\\frac{1}{c}.$$ Since each variate is independent, the number of trials required per accepted variate follows a geometric distribution with $p=p(A)=1/c$. Thus the mean number of trials per accepted variate is $1/p=c$.\n",
    "\n",
    "So the efficiency of a rejection method will improve to the extent that we can find a tighter bound on the target distribution, provided that the cost of sampling from this tighter bounding distribution does not outweigh the gains from earning fewer rejections."
   ]
  },
  {
   "cell_type": "markdown",
   "metadata": {
    "colab_type": "text",
    "id": "uPCDqSar-TXd"
   },
   "source": [
    "Write your answer here"
   ]
  },
  {
   "cell_type": "markdown",
   "metadata": {
    "colab_type": "text",
    "id": "POnpczjU-TXh"
   },
   "source": [
    "### 4b. "
   ]
  },
  {
   "cell_type": "markdown",
   "metadata": {
    "colab_type": "text",
    "flags": [
     "problems",
     "solutions"
    ],
    "id": "l_dNpHRR-TXj"
   },
   "source": [
    "Show that the accepted variates will indeed be sampled faithfully from the probability density $p(x)$.  HINT: one way is to use Bayes' theorem.\n",
    "\n",
    "$$p(x|A)=\\frac{p(A|x)f(x)}{p(A)}=c\\frac{p(x)}{cf(x)}f(x)=p(x).$$\n",
    "\n"
   ]
  },
  {
   "cell_type": "markdown",
   "metadata": {
    "colab_type": "text",
    "id": "AwmHIj0S-TXk"
   },
   "source": [
    "Write your answer here"
   ]
  },
  {
   "cell_type": "markdown",
   "metadata": {
    "colab_type": "text",
    "id": "UiI-dQzq-TXl"
   },
   "source": [
    "### 4c. "
   ]
  },
  {
   "cell_type": "markdown",
   "metadata": {
    "colab_type": "text",
    "flags": [
     "problems",
     "solutions"
    ],
    "id": "7eHYWv6p-TXm"
   },
   "source": [
    "As an example, consider a target density given by a beta distribution of the form\n",
    "$$\n",
    "p(x) = \n",
    "\\begin{cases}\n",
    "30\\, x^2(1-x)^2 & \\text{ if } 0 \\le x \\le 1 \\\\\n",
    "0 & \\text{ otherwise}\n",
    "\\end{cases}.\n",
    "$$\n",
    "\n",
    "Using a rejection method based on a uniform bounding distribution $f(x) = 1$ over $0 \\le x < 1$,  draw $n = 10^6$ variates, based on an optimal value of $c$. Plot a histogram of the number of trial variates per accepted variate, comparing to theoretical expectations. What is the average processor time required to generate each sample using this method? What is the average rejection rate?"
   ]
  },
  {
   "cell_type": "code",
   "execution_count": 1,
   "metadata": {
    "colab": {},
    "colab_type": "code",
    "id": "-fVmGHb0-TXo"
   },
   "outputs": [],
   "source": [
    "#Write your answer here"
   ]
  },
  {
   "cell_type": "markdown",
   "metadata": {
    "colab_type": "text",
    "id": "XusJSGOX-TXv"
   },
   "source": [
    "### 4d. "
   ]
  },
  {
   "cell_type": "markdown",
   "metadata": {
    "colab_type": "text",
    "flags": [
     "problems",
     "solutions"
    ],
    "id": "EEqzEyDP-TXw"
   },
   "source": [
    "Repeat the above question, but this time based on a triangular bounding distribution $f(x) \\propto \\min[x,1-x]$ over $0 \\le x \\le 1$, draw $n = 10^6$ variates, hopefully based on an optimal choice of $c$. (HINT:  you can draw variates from the triangular distribution by using a transformation method with piecewise mapping, or by considering the sum of two uniform variates.  For fun, you may want to explore both to see which is faster---the former requires an if-then test, which slows down modern computers, while the latter requires drawing two deviates).\n",
    "\n",
    "Is the improved constant $c$ in this context worth the extra effort required to generate triangular rather than uniform trial deviates?  "
   ]
  },
  {
   "cell_type": "code",
   "execution_count": 2,
   "metadata": {
    "colab_type": "text",
    "id": "dBv00WS_-TXy"
   },
   "outputs": [],
   "source": [
    "#Write your answer here"
   ]
  }
 ],
 "metadata": {
  "colab": {
   "name": "Problem Set 1 problems.ipynb",
   "provenance": [],
   "toc_visible": true
  },
  "kernelspec": {
   "display_name": "Python 3 (ipykernel)",
   "language": "python",
   "name": "python3"
  },
  "language_info": {
   "codemirror_mode": {
    "name": "ipython",
    "version": 3
   },
   "file_extension": ".py",
   "mimetype": "text/x-python",
   "name": "python",
   "nbconvert_exporter": "python",
   "pygments_lexer": "ipython3",
   "version": "3.9.15"
  }
 },
 "nbformat": 4,
 "nbformat_minor": 1
}
