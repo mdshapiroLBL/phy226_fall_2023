{
 "cells": [
  {
   "cell_type": "markdown",
   "metadata": {},
   "source": [
    "# Physics 226 Fall 2023 Problem Set 6: Due Sunday Oct 8, 2023"
   ]
  },
  {
   "cell_type": "markdown",
   "metadata": {},
   "source": [
    "## Question 1 SU(3) $\\lambda $ matrices (25 points)"
   ]
  },
  {
   "cell_type": "markdown",
   "metadata": {},
   "source": [
    "### Learning objectives\n",
    "In this question you will:\n",
    "- Review the definition of the $\\lambda$ matrices (the generators of SU(3) symmetry)\n",
    "- Show that the SU(3) group contains three SU(2) subgroups and construct the raising and lowering operators for these subgroups"
   ]
  },
  {
   "cell_type": "markdown",
   "metadata": {},
   "source": [
    "We learned in Quantum Mechanics that the smallest representation of angular momentum has dimension 2 (spin-$\\frac{1}{2}$) and that the generators of infinitesmal rotations in this fundamental representation can be written as the three $2\\times 2$ Pauli matrices $\\sigma_x$, $\\sigma_y$ and $\\sigma_z$ that satisfy the SU(2) commutation relations \n",
    "$$\\left [\\frac{1}{2}\\sigma_i, \\frac{1}{2}\\sigma_j \\right ] = i \\epsilon_{ijk} \\frac{1}{2} \\sigma_k$$\n",
    "\n",
    "Similarly, the fundamental representation of SU3) can be written as a set of eight $3\\times 3$ matrices called the $\\lambda$-martices:\n",
    "\n",
    "\\begin{eqnarray*}\n",
    "\\lambda_1 = \\left( \n",
    "\\begin{array}{ccc} 0 & 1 & 0 \\\\ 1 & 0 & 0 \\\\ 0 & 0 & 0 \\\\\n",
    "\\end{array} \\right)\n",
    "& \n",
    "\\lambda_2 = \\left( \n",
    "\\begin{array}{ccc} 0 & -i & 0 \\\\ i & 0 & 0 \\\\ 0 & 0 & 0 \\\\\n",
    "\\end{array} \\right)\n",
    "&\n",
    "\\lambda_3 = \\left( \n",
    "\\begin{array}{ccc} 1 & 0 & 0 \\\\ 0 & -1 & 0 \\\\ 0 & 0 & 0 \\\\\n",
    "\\end{array} \\right)\n",
    "\\\\\n",
    "\\lambda_4 = \\left( \n",
    "\\begin{array}{ccc} 0 & 0 & 1 \\\\ 0 & 0 & 0 \\\\ 1 & 0 & 0 \\\\ \n",
    "\\end{array} \\right)\n",
    "& \n",
    "\\lambda_5 = \\left( \n",
    "\\begin{array}{ccc} 0 & 0 & -i \\\\ 0 & 0 & 0 \\\\ i & 0 & 0 \\\\\n",
    "\\end{array} \\right)\n",
    "&\n",
    "\\lambda_6 = \\left( \n",
    "\\begin{array}{ccc} 0 & 0 & 0 \\\\ 0 & 0 & 1 \\\\ 0 & 1 & 0 \\\\\n",
    "\\end{array} \\right)\n",
    "\\\\\n",
    "\\lambda_7 = \\left( \n",
    "\\begin{array}{ccc} 0 & 0 & 0 \\\\ 0 & 0 & -i \\\\ 0 & i & 0 \\\\\n",
    "\\end{array} \\right)\n",
    "& &\n",
    "\\lambda_8 = \\frac{1}{\\sqrt{3}}\\left( \n",
    "\\begin{array}{ccc} 1 & 0 & 0 \\\\ 0 & 1 & 0 \\\\ 0 & 0 & -2 \\\\\n",
    "\\end{array} \\right)\n",
    " \\\\\n",
    "\\end{eqnarray*}"
   ]
  },
  {
   "cell_type": "markdown",
   "metadata": {},
   "source": [
    "### 1a\n",
    "Examining the first three $\\lambda$ shows that they are just the Pauli matrices with zeros added in the third row and column.  Thus, these three matrices form a subgroup of SU(2) within the SU(3) group and obey the commutation relations we know from angular momentum.  This is one of three SU(2) subgroups within the SU(2) group.  We call them:\n",
    "$$\n",
    "\\begin{array}{lccc}\n",
    "{\\rm Isospin} & \\lambda_1 & \\lambda_2 & \\lambda_3 \\\\\n",
    "{\\rm V-spin:} &  \\lambda_4 & \\lambda_5& \\frac{1}{2} \\left (\\sqrt{3}\\lambda_8+\\lambda_3\\right )\\\\\n",
    "{\\rm U-spin:} &  \\lambda_6 & \\lambda_7& \\frac{1}{2} \\left (\\sqrt{3}\\lambda_8 -\\lambda_3 \\right )\\\\\n",
    "\\end{array}\n",
    "$$\n",
    "Using explicity matrix multiplication.  Show that the generator of U-spin and V-spin satisfy the commutation relations that define the SU(2) algebra."
   ]
  },
  {
   "cell_type": "markdown",
   "metadata": {},
   "source": [
    "Write your answer here"
   ]
  },
  {
   "cell_type": "markdown",
   "metadata": {},
   "source": [
    "### 1b"
   ]
  },
  {
   "cell_type": "markdown",
   "metadata": {},
   "source": [
    "The fundamental representation of SU(3) can be written as the three column matrices which in we call in the quark model:\n",
    "\n",
    "$$\n",
    "\\begin{array}{ccc}\n",
    "u \\equiv \\left (\n",
    "\\begin{array}{c} \n",
    "1\\\\ 0 \\\\ 0 \n",
    "\\end{array}\n",
    "\\right )\n",
    "&\n",
    "d \\equiv \\left (\n",
    "\\begin{array}{c} \n",
    "0\\\\ 1 \\\\ 0 \n",
    "\\end{array}\n",
    "\\right )\n",
    "& \n",
    "s \\equiv \\left (\n",
    "\\begin{array}{c} \n",
    "0\\\\ 0 \\\\ 1 \n",
    "\\end{array}\n",
    "\\right )\n",
    "\\\\\n",
    "\\end{array}\n",
    "$$\n",
    "\n",
    "Show that the raising (lowering) operators\n",
    "\n",
    "$$\n",
    "\\begin{array}{ccc}\n",
    "I_{\\pm} = \\frac{1}{2} \\left (\\lambda_1 \\pm i \\lambda_2 \\right ) &\n",
    "U_{\\pm} = \\frac{1}{2} \\left (\\lambda_4 \\pm i \\lambda_5 \\right )\n",
    "& \n",
    "V_{\\pm} = \\frac{1}{2} \\left (\\lambda_6 \\pm i \\lambda_7 \\right )\n",
    "\\end{array}\n",
    "$$\n",
    "\n",
    "turn $u$ into $d$ (and visa versa), $u$ into $s$ (and visa versa) and $d$ into $s$ (and visa veras)"
   ]
  },
  {
   "cell_type": "markdown",
   "metadata": {},
   "source": [
    "Write your answer here"
   ]
  },
  {
   "cell_type": "markdown",
   "metadata": {},
   "source": [
    "## Question 2: Constructing hadrons states using SU(3) raising and lowering operators (25 points)"
   ]
  },
  {
   "cell_type": "markdown",
   "metadata": {},
   "source": [
    "### Learning objectives\n",
    "In this question you will:\n",
    "- Learn how to find the SU(3) wave functions for baryons using SU(3) raising and lowering operators"
   ]
  },
  {
   "cell_type": "markdown",
   "metadata": {},
   "source": [
    "If we know the SU(3) wave function for one member of an SU(3) multiplet, we can construct the other members of the multiplet using SU(3) raising and lowering operators.  Each multiplet has well defined properties under the interachange of two quarks.  For example, the spin-3/2 baryon decouplet that contains the $\\Delta $ is symmetric under interchange, eg $\\Delta ^{+} = \\frac{1}{\\sqrt{3}} \\left (uud+udu+duu \\right ) $, while the spin-1/2 octet that contains the proton and neutron is  antisymmetric under the interchange of the first two quarks but has no symmetry with respect to the third."
   ]
  },
  {
   "cell_type": "markdown",
   "metadata": {},
   "source": [
    "### 2a."
   ]
  },
  {
   "cell_type": "markdown",
   "metadata": {},
   "source": [
    "For the spin-3/2 decouplet, start with the $\\Omega^{-} = sss$ baryon with strangeness $S=-3$.   Use raising and/or lowering operators to construct the members of the decouplet with $S=-2$, known as the the $\\Xi$, and with $S=-1 $, known as the $\\Sigma^{*}$."
   ]
  },
  {
   "cell_type": "markdown",
   "metadata": {},
   "source": [
    "Write your answer here"
   ]
  },
  {
   "cell_type": "markdown",
   "metadata": {},
   "source": [
    "### 2b."
   ]
  },
  {
   "cell_type": "markdown",
   "metadata": {},
   "source": [
    "Starting from the $\\pi^+$ SU(3) wave function\n",
    "$$\n",
    "\\pi^+ = -u \\overline d\n",
    "$$\n",
    "Use SU(3) raising and lowering operators to construct the 4 states $K^+$, $K^-$, $K^0$ and $\\overline K ^0$.  When\n",
    "constructing these states you can start with the relationships given on page 226 of Thomson:\n",
    "$$\n",
    "\\begin{array}{cccccc}\n",
    "\\hat V_+ s = +u & \\hat V_- u = +s & \\hat U_+ s = +d & \\hat U_- d = +s & \\hat I_+ d = +u & \\hat I_- u = +d \\\\\n",
    "\\hat V_+ \\overline u = -\\overline s & \\hat V_- \\overline s = -\\overline u & \\hat U_+ \\overline d = -\\overline s & \n",
    "\\hat U_- \\overline s = -\\overline d & \\hat I_+ \\overline u = -\\overline d & \\hat I_- \\overline d = -\\overline u\n",
    "\\end{array}\n",
    "$$\n",
    "(Note: Thomson uses the operator $\\hat T$ for isospin while here we represent isospin with $\\hat I$)"
   ]
  },
  {
   "cell_type": "markdown",
   "metadata": {},
   "source": [
    "Write your answer here"
   ]
  },
  {
   "cell_type": "markdown",
   "metadata": {},
   "source": [
    "## Question 3: Hyperfine splitting in the meson multiplets (25 points)"
   ]
  },
  {
   "cell_type": "markdown",
   "metadata": {},
   "source": [
    "### Learning objectives\n",
    "In this question you will:\n",
    "- Use concepts first learned in the context of the hydrogen atom to understand mass splittings between vector and pseudoscalar mesons"
   ]
  },
  {
   "cell_type": "markdown",
   "metadata": {},
   "source": [
    "The lowest lying pseudoscalar and vector multiplets are both SU(3) nonets (octet plus singlet) with no orbital angular momentum.  The mass splittings within a multiplet come from the difference in mass between the $u$, $d$ and $s$ quarks and to a smaller extent from electromagnetic corrections due to the differences in quark charges.  Mass splitting  between the pseudoscalar and vector multiplets is due to QCD hyperfine splitting.  The origin of this term is the same as hyperfine splitting in hydrogen:  the interaction between the magnetic moments of the two particles in the bound state.\n",
    "\n",
    "The hyperfine mass splitting for mesons with quark content $q_1 \\overline{q_2}$ has the form:\n",
    "$$ \\Delta M ({\\rm meson}) = A \\frac{{\\bf S}_1 \\cdot {\\bf S}_2}{m_1 m_2} |\\psi(0)|^2$$\n",
    "where $A$ is a constant, ${\\bf S}_i$ is the spin of quark $i$, $m_i$ is the mass of quark $i$ and $|\\psi(0)|$ is the wave function at the origin.  We cannot calculate $\\psi(0)$ from first principles but we can use experimental measurements to determine the combination\n",
    "$A \\left | \\psi(0)\\right |^2$.\n",
    "For this problem, use $m_u=m_d=336$ MeV and $m_s=509$ MeV."
   ]
  },
  {
   "cell_type": "markdown",
   "metadata": {},
   "source": [
    "### 3a."
   ]
  },
  {
   "cell_type": "markdown",
   "metadata": {},
   "source": [
    "By comparing the masses of the $K^0$ and $K^{0 *}$ mesons, estimate the\n",
    "value of $A |\\psi(0)|^2$."
   ]
  },
  {
   "cell_type": "markdown",
   "metadata": {},
   "source": [
    "### 3b."
   ]
  },
  {
   "cell_type": "markdown",
   "metadata": {},
   "source": [
    "Use this value of $A|\\psi(0)|^2$ and the difference between the up and strange quark masses  to predict the splitting between the $\\eta $ and $\\omega $.  Note:  you may assume that the $\\eta $ is a pure SU(3) octet state:\n",
    "$$\n",
    "\\eta = \\frac{1}{\\sqrt{6}} \\left (u\\overline u + d\\overline d - 2 s\\overline s \\right )\n",
    "$$                                                                                 \n",
    "In the case of the $\\omega$, use the wave function given in problem 1."
   ]
  },
  {
   "cell_type": "markdown",
   "metadata": {},
   "source": [
    "## Question 4: Leptonic decays of vector mesons (25 points)"
   ]
  },
  {
   "cell_type": "markdown",
   "metadata": {},
   "source": [
    "### Learning objectives\n",
    "In this question you will:\n",
    "- Learn how neutral mesons couple to the photon"
   ]
  },
  {
   "cell_type": "markdown",
   "metadata": {},
   "source": [
    "### 4a. "
   ]
  },
  {
   "cell_type": "markdown",
   "metadata": {
    "flags": [
     "problems",
     "solutions"
    ]
   },
   "source": [
    "Neutral vector mesons can decay into lepton pairs through $q\\overline{q}$ annihiliation via a virtual photon."
   ]
  },
  {
   "cell_type": "markdown",
   "metadata": {},
   "source": [
    "<img src=\"vmesDecay.png\" alt=\"Drawing\" style=\"width:550px;\"/>"
   ]
  },
  {
   "cell_type": "markdown",
   "metadata": {},
   "source": [
    "This annihilation requires that the wave function of the $q$ and $\\overline q$ overlap ($\\psi(r=0)\\ne 0$), so annihilation is only possible for states with $\\ell=0$.  Because the photon has spin 1 and angular momentum must be conserved at the interaction vertices, the sum of the quark spins must have spin 1 (since $\\ell=0$).  The lowest lying octet vector meson states have exactly this quark configuration\n",
    "\n",
    "In general, these decays have small branching ratios, since they are occur via the electromagnetic rather than the strong interaction.  We can calculate the partial width for electromagnetic decays of vector mesons in terms of the quark content of the mesons and the $q\\overline{q}$ wave function overlap $|\\psi(0)|^2$.  The result is:\n",
    "$$                                                                                 \n",
    "\\Gamma(V\\rightarrow \\ell^+ \\ell^- ) \\propto  \\frac{\\alpha^2 Q^2}{M_V^2} \n",
    "\\left | \\psi(0) \\right |^2                                                         \n",
    "$$\n",
    "where $\\alpha$ is the fine structure constant, $M_V$ is the mass of the meson and $\\psi(0) $ is the wave function  at the origin. The $Q^2$ abover represents the value of $\\left |qe^2\\right |^2$ and is discussed below.\n",
    "\n",
    "Because annihilation into a photon can only occur if the quark and anti-quark in the meson are of the same flavor ($u\\overline u $, $d\\overline d $ or $s\\overline s $ ) we can write the relevant meson wave function $\\left | \\psi \\right > $ in terms of the quarks as:\n",
    "$$ \n",
    "\\left | \\psi \\right >  = \\sum_i a_i \\left | q_i \\overline q_i\\right >                                \n",
    "$$\n",
    "With this definition, and noting that our initial $q\\overline q$ is annihilating into a photon $ \\left < \\gamma \\right |$, expectation value of $Q^2$ can be written:\n",
    "\\begin{eqnarray*}\n",
    "  Q^2 & = & \\left | \\left  < \\gamma \\left | {\\cal Q} \\right | \\psi \\right > \\right |^2  \\\\\n",
    "  & = & \\left | \\sum_i a_i  \\left < \\gamma \\left | {\\cal Q} \\right |\n",
    "   q_i \\overline q_i\\right > \\right |^2\n",
    "  \\end{eqnarray*}\n",
    "is the squared sum of the charges of the quarks in the meson (weighted by $a_i$, the appropriate SU(3) Clebsch-Gordon Coefficients),\n",
    "The charge operator ${\\cal Q}$ has the following effect on quark-antiquark pairs:\n",
    "\\begin{eqnarray*}\n",
    "\\left < \\gamma \\right |\\cal Q \\left | u\\overline u \\right > & = & \\frac{2}{3} \\\\\n",
    "\\left < \\gamma \\right |\\cal Q \\left | d\\overline d \\right > & = & -\\frac{1}{3} \\\\\n",
    "\\left < \\gamma \\right |\\cal Q \\left | s\\overline s \\right > & = & - \\frac{1}{3} \\\\\n",
    "\\end{eqnarray*}\n",
    "(we won't explain here why the operator takes its sign from the quark and not the antiquark)\n",
    "\n",
    "Using the quark model assignments for the vector mesons\n",
    "\n",
    "\\begin{eqnarray*}\n",
    "\\rho^{0} & = & \\frac{1}{\\sqrt{2}} \\left ( u\\overline u - d\\overline d \\right )\\\\\n",
    "\\omega^{0} & = & \\frac{1}{\\sqrt{2}} \\left (u\\overline u + d\\overline d \\right )\\\\\n",
    "\\phi^{0} & = & s\\overline s \n",
    "\\end{eqnarray*}\n",
    "\n",
    "calculate the ratios of the leptonic decay widths for these 3 mesons.\n",
    "For problem, use SU(3) symmetry to make the\n",
    "approximation that $\\psi(0)$ is the same for all 3 states.\n",
    "Use the Particle Data Book to compare your result to the measured values of these ratios."
   ]
  },
  {
   "cell_type": "code",
   "execution_count": 1,
   "metadata": {},
   "outputs": [],
   "source": [
    "#Write your answer here"
   ]
  },
  {
   "cell_type": "markdown",
   "metadata": {},
   "source": [
    "### 4b. "
   ]
  },
  {
   "cell_type": "markdown",
   "metadata": {},
   "source": [
    "The $\\psi $ is a spin 1 meson with quark content $c \\overline c$ and mass 3.1 GeV.  The $c$ quark has charge $2/3$. The $\\Upsilon(1S)$, is a spin 1  meson with quark content $b\\overline b$ and  mass 9.460 GeV. The $b$ quark has charge  $-1/3$. Because the $c$-quark and $b$-quark are so much heavier than the $u$, $d$ and $s$, we cannot assume that that these mesons have the same value of $\\psi(0)$ as the light vector mesons. The change in  $\\psi(0)$ with quark mass depends on the radial form of the binding potential.  We know, for example, in non-relativistic quantum mechanics that for the hydrogen atom $|\\psi(0)|^2\\propto m^3$,, while for a harmonic oscillator potential with fix value of $k$ , $|\\psi(0)|^2\\propto m^{1/4}$.  We can therefore deduce something about the   shape of the potential by studying the quark-mass dependence of the leptonic  decay width.\n",
    "  \n",
    "Predict the leptonic decay width for the $\\psi $  and the $\\Upsilon(1S)$ under each of the following assumptions about the mass   dependence of the wave function at the origin:\n",
    "\n",
    "- $|\\psi(0)|^2$ is independent of $M_V$,\n",
    "- $|\\psi(0)|^2 \\propto M_V$\n",
    "- $|\\psi(0)|^2 \\propto {M_V}^2$.\n",
    "\n",
    "Use the Particle Data Book to find the true values of these widths.  Which of the three predictions agrees best with the data?\n"
   ]
  },
  {
   "cell_type": "code",
   "execution_count": null,
   "metadata": {},
   "outputs": [],
   "source": [
    "#Write your answer here"
   ]
  }
 ],
 "metadata": {
  "kernelspec": {
   "display_name": "Python 3 (ipykernel)",
   "language": "python",
   "name": "python3"
  },
  "language_info": {
   "codemirror_mode": {
    "name": "ipython",
    "version": 3
   },
   "file_extension": ".py",
   "mimetype": "text/x-python",
   "name": "python",
   "nbconvert_exporter": "python",
   "pygments_lexer": "ipython3",
   "version": "3.9.15"
  }
 },
 "nbformat": 4,
 "nbformat_minor": 4
}
