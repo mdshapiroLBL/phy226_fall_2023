{
 "cells": [
  {
   "cell_type": "markdown",
   "id": "0",
   "metadata": {},
   "source": [
    "# Physics 226 Fall 2023:  $e^{+}e^{-} \\rightarrow $ hadrons"
   ]
  },
  {
   "cell_type": "markdown",
   "id": "0863f12b",
   "metadata": {},
   "source": [
    "## Question 1: Hadronization - The rapidity plateau (40 points)"
   ]
  },
  {
   "cell_type": "markdown",
   "id": "5933662f",
   "metadata": {},
   "source": [
    "### Learning objectives\n",
    "In this question you will:\n",
    "\n",
    "- learn that longitudinal phase space with limited momentum in the transverse distrction results in a flat rapidity distribution (up to the kinemeatic bound)\n",
    "- derive several useful facts about rapidity"
   ]
  },
  {
   "cell_type": "markdown",
   "id": "f781cc38",
   "metadata": {},
   "source": [
    "We saw in class that when quarks and gluons fragment into jets, the soft particles created during the fragmentation process are produced in colored flux tubes.  This means they have limited transverse momentum with respect to the jet axis (eg the quark or gluon direction) and that they are produced uniformly in longitudinal phase space.  A consequence of this is that production is uniform in the  variable called rapidity (usually written as $y$, although\n",
    "it has nothing to do with the $y$ used  in deep inelastic scattering)\n",
    "$$y \\equiv \\frac{1}{2} \\ln \\left( \\frac{E+p_{||}}{E-p_{||}} \\right) $$\n",
    "where $p_{||}$ is the particle's momentum with respect to the jet axis."
   ]
  },
  {
   "cell_type": "markdown",
   "id": "8e95e2dd",
   "metadata": {},
   "source": [
    "### 1a."
   ]
  },
  {
   "cell_type": "markdown",
   "id": "276b6501",
   "metadata": {},
   "source": [
    "Show that a particle's rapidity is related to its velocity along the jet axis by the expression\n",
    "$$ y = {\\rm arctanh} \\left (\\beta_{||} \\right ) $$\n",
    "where $\\beta_{||}$ is the velocity ($v/c$ in units where $c=1$) of the particle with respect to the jet direction."
   ]
  },
  {
   "cell_type": "markdown",
   "id": "797529ad",
   "metadata": {},
   "source": [
    "### 1b. "
   ]
  },
  {
   "cell_type": "markdown",
   "id": "bb65ba90",
   "metadata": {},
   "source": [
    "Show that the rapidity difference between two particles in a jet is invariant with respect to Lorentz boosts along the jet direction"
   ]
  },
  {
   "cell_type": "markdown",
   "id": "7ed5fcb8",
   "metadata": {},
   "source": [
    "### 1c."
   ]
  },
  {
   "cell_type": "markdown",
   "id": "10ead28b",
   "metadata": {},
   "source": [
    "Show that in the limit where particle masses can be neglected the rapidity $y$ can be approximated by the expression\n",
    "$$y\\approx - \\ln \\left (\\tan \\left ( \\theta/2 \\right ) \\right ) $$\n",
    "where $\\theta $ is the angle the particle makes with respect to the jet axis."
   ]
  },
  {
   "cell_type": "markdown",
   "id": "12d6034b",
   "metadata": {},
   "source": [
    "### 1d. "
   ]
  },
  {
   "cell_type": "markdown",
   "id": "9e9f1963",
   "metadata": {},
   "source": [
    "Consider $e^+e^-\\rightarrow hadrons$ in the center-of-mass frame where the energies of the initial $e^+$ and $e^-$  beams are $E_{beam}=E_{cm}/2$.  The distribution of particles will be approximately uniform in $y$ between\n",
    "a minimum value $y_{min}$ and a maximum value $y_{max}$ where $y_{min}=-y_{max}\n",
    "$. Using the definition of rapidity above, find an approximate value for $y_{max}$ for hadrons of species\n",
    "$h$ and mass $m_h$ as a function of $E_{beam}$."
   ]
  },
  {
   "cell_type": "markdown",
   "id": "e45d654c",
   "metadata": {},
   "source": [
    "### 1e. "
   ]
  },
  {
   "cell_type": "markdown",
   "id": "f7637d71",
   "metadata": {},
   "source": [
    "Using this result, show that the average multiplicity of final state hadrons $h$ of mass $m_h$ is\n",
    "$$ n_h \\propto \\ln \\left ( \\frac{E_{cm}}{m_h} \\right ) $$\n",
    "In other words, the multiplicity of hadrons grows logrithmically with the annihilation energy."
   ]
  },
  {
   "cell_type": "markdown",
   "id": "cb06fea0",
   "metadata": {},
   "source": [
    "## Question 2: Hadronization - Fragmentation Functions (20 points)"
   ]
  },
  {
   "cell_type": "markdown",
   "id": "42941adf",
   "metadata": {},
   "source": [
    "### Learning objectives\n",
    "\n",
    "- understand the concept of a fragmentation function\n",
    "- derive some useful expressions about fragmentation"
   ]
  },
  {
   "cell_type": "markdown",
   "id": "a0b5634d",
   "metadata": {},
   "source": [
    "The fragmentation function $D^h_q(z)$ is defined as the probability that a quark $q$ will hadronize\n",
    "to produce a hadron of species $h$ with energy fraction between $z$ and $z+dz$ of the quark's energy.\n",
    "These fragmentation functions must satisfy conservation of momentum and of probability so that\n",
    "\n",
    "$$\n",
    "%\\begin{array}{lcr}\n",
    "\\sum_h \\int_0^1 z D_q^h(z)dz  =  1 \n",
    "$$\n",
    "\n",
    "and\n",
    "\n",
    "$$\n",
    "\\sum_h \\int_{z_{min}}^1                                              \n",
    "D_q^h(z)                                                \n",
    "dz = \\sum_h n_h\n",
    "%\\end{array}\n",
    "$$\n",
    "\n",
    "where the sum is over all hadron species, $z_{min}$ depends on the mass of the hadron and the energy of the quark ($z_{min}=m_h/E_q$) and $n_h$ is the average number of hadrons of type $h$ produced by the fragmentation of the quark. \n",
    "\n",
    "Fragmentation functions are often parameterized by the form\n",
    "\n",
    "$$D^h_q(z) = {\\cal N} \\frac{(1-z)^\\alpha}{z} $$\n",
    "\n",
    "where $\\alpha$ and ${\\cal N}$ are constants.\n"
   ]
  },
  {
   "cell_type": "markdown",
   "id": "2637cc25",
   "metadata": {},
   "source": [
    "### 2a."
   ]
  },
  {
   "cell_type": "markdown",
   "id": "2bc9a851",
   "metadata": {},
   "source": [
    "Show that\n",
    "$$ {\\cal N} = (\\alpha+1) <z> $$\n",
    "where $<z>$ is the average fraction of the quark momentum carried byhadrons of type $h$ after fragmentation."
   ]
  },
  {
   "cell_type": "markdown",
   "id": "47a398e5",
   "metadata": {},
   "source": [
    "### 2b."
   ]
  },
  {
   "cell_type": "markdown",
   "id": "7b79b7e3",
   "metadata": {},
   "source": [
    "Show that this formalism gives a result with the same energy depedence as problem~1(e):\n",
    "\n",
    "$$ n_h \\propto \\ln \\left ( \\frac{E_{cm}}{m_h} \\right ) + terms\\;independent\\;E_{cm}$$\n",
    "\n",
    "for the process $e^+e^- \\rightarrow 2$ jets.  Hint:  Try Taylor expanding the $(1-z)^\\alpha$ term. \n",
    "Note:  The energy independent term obtained here is rather suspect since the fragmentation function parameterization isn't sensible for $z$ near or below $ z_{min}$. "
   ]
  },
  {
   "cell_type": "markdown",
   "id": "1",
   "metadata": {},
   "source": [
    "## Question 3: Sphericity and the Discovery of the Gluon (40 points)"
   ]
  },
  {
   "cell_type": "markdown",
   "id": "2",
   "metadata": {},
   "source": [
    "### Learning objectives\n",
    "In this question you will:\n",
    "\n",
    "- learn how to calculate the sphericity tensor and understand how to interpret its eigenvalues\n",
    "- reproduce (using simulated data) the analysis performed by Tasso to discover the gluon\n",
    "- develop a simple event display as an aid to visualizing what two jet and three jet events look like in $e^+e^-$ annihilation events\n"
   ]
  },
  {
   "cell_type": "markdown",
   "id": "3",
   "metadata": {
    "flags": [
     "problems",
     "solutions"
    ]
   },
   "source": [
    "The first experimental evidence for the existence of the\n",
    "gluon came from the analysis of data collected at the Petra\n",
    "accelerator at DESY.  Several different analysis strategies\n",
    "were used by the four collaborations (see [arxiv:1012.2288](https://arxiv.org/pdf/1012.2288.pdf) for a review).  One such analysis, performed by the\n",
    "Tasso group, was based on studies of the sphericity tensor:\n",
    "\n",
    "$$\n",
    "S_{\\alpha\\beta} = \\frac{\\sum_i p_{i\\alpha} p_{i\\beta}}{\\sum_i\n",
    "  \\vec p_i^2}\n",
    "$$\n",
    "\n",
    "where the sum is over all charged particles in the event\n",
    "(Tasso did not have good enough calorimetry to include neutrals\n",
    "in the analysis) and the $\\alpha$ and $\\beta$ indices run\n",
    "from 1 to 3, representing the $x$, $y$ and $z$ components\n",
    "of the momentum vector.  For each event,\n",
    "the Sphericity tensor can be\n",
    "diagonalized to obtain the principle axes $\\hat n_1$ through\n",
    "$\\hat n_3$ and eigenvalues $Q_1$ through $Q_3$.\n",
    "With the definition of $S$ above, $Q_1+Q_2+Q_3=1$, so we only\n",
    "need two eigenvalues to specify each event. \n",
    "If the\n",
    "eigenvalues are ordered so that $Q_1<Q_2<Q_3$ then the\n",
    "sphericity is defined to be\n",
    "\n",
    "$$\n",
    "S \\equiv \\frac{3}{2}\\left (1 - Q_3\\right )  = \\frac{3}{2} \\left (Q_1+Q_2 \\right )\n",
    "$$\n",
    "\n",
    "and the aplanarity is defined to be\n",
    "\n",
    "$$\n",
    "A \\equiv \\frac{3}{2} Q_1 \n",
    "$$\n",
    "\n",
    "Here $0<S<1$ and $0<A < 0.5$.\n",
    "\n",
    "Note that the form of the sphericity tensor is the same\n",
    "as that of the moment of interia tensor (where the object's\n",
    "position is replaced by its momentum).  We can therefore\n",
    "use our intuition from classical mechanics to interpret this\n",
    "tensor.  Long, thin rods have one large eigenvalue and two\n",
    "small ones of rougly equal size, while a sphere has three\n",
    "eigenvalues of equal size.  If we interpret the the\n",
    "process $e^+e^-\\rightarrow hadrons$ at parton level as\n",
    "$e^+e^-\\rightarrow q\\overline q$ we would expect most of\n",
    "the momentum to flow along the original $q\\overline q$ axis\n",
    "with the momentum transverse to this direction limited by to\n",
    "a scale set by $\\Lambda_{QCD}$.  Thus, such events have $S$\n",
    "close to zero.  The axis $n_3$ is a good estimate of\n",
    "the initial direction of the back-to-back $q$ and $\\overline q$.\n",
    "If instead,  a single hard gluon is radiated so that\n",
    "the hard scattering process is $e^+e^-\\rightarrow q\\overline qg$.\n",
    "The events would appear planar with only a small component of \n",
    "momentum outside the plane.\n",
    "Here is what Tasso observed:\n",
    "<div style=\"width: 500px;margin: auto\" align=\"center\">\n",
    "    <img src=\"tassoSphericityAplanarity.png\">\n",
    "    Distribution of the sphericity and aplanarity\n",
    "    of $e^+e^-\\rightarrow hadron$ events measured by\n",
    "  the TASSO collaboration in R.\n",
    "    Brandelik et al., <i>Evidence for Planar Events in e<sup>+</sup>e<sup>−</sup> Annihilation at High Energies</i>, Phys. Lett. B 86, 243 (1979).\n",
    "</div>\n",
    "\n",
    "You will now reproduce their analysis using simulated\n",
    "data created with the Pythia8 Monte Carlo generator.  The file\n",
    "`Pythia8e+e-Toqqbar36GeV.dat` contains the charged particle information\n",
    "for 10000 events.  The format of the file is specified\n",
    "in the metadata comments at the beginning of the file."
   ]
  },
  {
   "cell_type": "markdown",
   "id": "4",
   "metadata": {},
   "source": [
    "### 3a. "
   ]
  },
  {
   "cell_type": "markdown",
   "id": "5",
   "metadata": {
    "flags": [
     "problems",
     "solutions"
    ]
   },
   "source": [
    "For each event in the file, calculate the\n",
    "  sphericity tensor and find its eigenvalues.  Plot the\n",
    "  data using the same $x$ and $y$ axes as the Tasso plot\n",
    "  above."
   ]
  },
  {
   "cell_type": "code",
   "execution_count": 10,
   "id": "6b1985c0",
   "metadata": {},
   "outputs": [],
   "source": [
    "import numpy as np\n",
    "from matplotlib import pyplot as plt\n",
    "\n",
    "# Read in the data\n",
    "with open(\"Pythia8e+e-Toqqbar36GeV.dat\",\"r\") as file:\n",
    "    lines = file.readlines()\n",
    "\n",
    "# This is the header\n",
    "event_header = lines[5]\n",
    "\n",
    "def momenta_from_events(lines):\n",
    "    \"\"\"Take provided event info and extract momemtum vectors\n",
    "    Parameters\n",
    "    ==========\n",
    "    lines : numpy array\n",
    "      2 dimensional array of event info\n",
    "    Returns\n",
    "    =======\n",
    "    mom : numpy array\n",
    "      n by 3 array of momentum vectors, one for each event given\n",
    "    \"\"\"\n",
    "    n = len(lines)\n",
    "    mom = np.zeros((n,3))\n",
    "    for i in range(n):\n",
    "        mom[i] = lines[i].split(\",\")[1:4]\n",
    "    return mom\n",
    "        \n",
    "def sphericity_tensor_from_mom(mom):\n",
    "    \"\"\"Calculate the sphericity of a momentum vector\n",
    "    \n",
    "    Parameters\n",
    "    ==========\n",
    "    mom : numpy array\n",
    "      3 element array representing a particle momentum\n",
    "      \n",
    "    Returns\n",
    "    =======\n",
    "    sphericity : numpy array\n",
    "      3 by 3 array of sphericity tensor values\n",
    "    \"\"\"\n",
    "    '''Your code here'''\n",
    "\n",
    "\n",
    "def find_eigenvalues(sphericity_tensor):\n",
    "    \"\"\"Calculate the eigenvalues of the sphericity tensor\n",
    "    \n",
    "    Parameters\n",
    "    ==========\n",
    "    sphericity_tensor : numpy array\n",
    "      3 by 3 array representing a sphericity tensor\n",
    "      \n",
    "    Returns\n",
    "    =======\n",
    "    eigenvalues : numpy array\n",
    "      sphericity tensor eigenvalues\n",
    "    \"\"\"\n",
    "    '''Your code here'''\n",
    "\n",
    "def compute_sphericity(eigenvalues):\n",
    "    \"\"\"Calculate the sphericity of the event given the sphericity tensor eigenvalues\n",
    "    \n",
    "    Parameters\n",
    "    ==========\n",
    "    eigenvalues : numpy array\n",
    "      3 element array representing sphericity tensor eigenvalues\n",
    "      \n",
    "    Returns\n",
    "    =======\n",
    "    sphericity : float\n",
    "      sphericity of the event\n",
    "    \"\"\"\n",
    "    \n",
    "    '''Your code here'''\n",
    "\n",
    "\n",
    "momenta = []\n",
    "\n",
    "# Start at the 6th element of the lines array, previous ones are header info\n",
    "i = 6\n",
    "\n",
    "while True:\n",
    "    try:\n",
    "        j = i + lines[i:].index(event_header) - 1\n",
    "    except ValueError:\n",
    "        break\n",
    "    momenta.append(momenta_from_events(lines[i:j]))\n",
    "    i = j + 2\n",
    "\n",
    "# momenta is an np array where the ith element of the array is an np array of momenta of charged particles in \n",
    "# for the ith event\n",
    "# For example, if you uncomment the line below you will print the momenta of all the charged particles for\n",
    "#  the 10th event\n",
    "\n",
    "#print(momenta[10])\n",
    "\n"
   ]
  },
  {
   "cell_type": "code",
   "execution_count": 2,
   "id": "7",
   "metadata": {},
   "outputs": [],
   "source": [
    "#Write your answer here"
   ]
  },
  {
   "cell_type": "markdown",
   "id": "8",
   "metadata": {},
   "source": [
    "### 3b. "
   ]
  },
  {
   "cell_type": "markdown",
   "id": "9",
   "metadata": {
    "flags": [
     "problems",
     "solutions"
    ]
   },
   "source": [
    "As discussed above, the momentum along the $\\hat n_3$\n",
    "  axis should be larger than in the other directions.\n",
    "  The momentum along the $\\hat n_2$\n",
    "  direction should be small for 2-jet events, with a tail\n",
    "  extending to larger values of momentum for\n",
    "  3-jet events where a gluon is radiated.  The momentum\n",
    "  along the $\\hat n_1$ direction should be small unless more\n",
    "  than one gluon is radiated.  Since $\\alpha_S\\approx 0.12$ at Petra\n",
    "  energies, the probability of\n",
    "  multiple hard gluon radiation is small.  Make\n",
    "  histograms of the components of momentum along each\n",
    "  of the three principle axes for the events you have analyzed.\n",
    "  What do these plots show?"
   ]
  },
  {
   "cell_type": "code",
   "execution_count": 3,
   "id": "10",
   "metadata": {},
   "outputs": [],
   "source": [
    "#Write your answer here"
   ]
  },
  {
   "cell_type": "markdown",
   "id": "11",
   "metadata": {},
   "source": [
    "### 3c. "
   ]
  },
  {
   "cell_type": "markdown",
   "id": "12",
   "metadata": {
    "flags": [
     "problems",
     "solutions"
    ]
   },
   "source": [
    "When physicists observe a new phenomenon, they often\n",
    "  like to display individual events to make sure they \"look\"\n",
    "  they way we expect.  We can display a single event by\n",
    "  making a 3D plot with a vector representing the momentum\n",
    "  of each charged particle.  Make such four such displays,\n",
    "  two for\n",
    "  events with $S<0.05$ and two for events with $S>0.3$.  Do\n",
    "  they look the way you expect them to?"
   ]
  },
  {
   "cell_type": "code",
   "execution_count": 4,
   "id": "13",
   "metadata": {
    "flags": [
     "problems",
     "solutions"
    ]
   },
   "outputs": [],
   "source": [
    "from mpl_toolkits.mplot3d import Axes3D\n",
    "\n",
    "#  Hint:  quiver is a good way to draw the vectors.  See https://www.alphacodingskills.com/matplotlib/matplotlib-3d-quiver-plot.php\n",
    "\n",
    "# Your code here"
   ]
  },
  {
   "cell_type": "code",
   "execution_count": 5,
   "id": "14",
   "metadata": {},
   "outputs": [],
   "source": [
    "#Write your answer here"
   ]
  }
 ],
 "metadata": {
  "kernelspec": {
   "display_name": "Python 3 (ipykernel)",
   "language": "python",
   "name": "python3"
  },
  "language_info": {
   "codemirror_mode": {
    "name": "ipython",
    "version": 3
   },
   "file_extension": ".py",
   "mimetype": "text/x-python",
   "name": "python",
   "nbconvert_exporter": "python",
   "pygments_lexer": "ipython3",
   "version": "3.9.13"
  }
 },
 "nbformat": 4,
 "nbformat_minor": 5
}
