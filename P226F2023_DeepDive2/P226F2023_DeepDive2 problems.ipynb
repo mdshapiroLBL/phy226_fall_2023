{
 "cells": [
  {
   "cell_type": "markdown",
   "id": "11dcf8f9",
   "metadata": {},
   "source": [
    "# Physics 226 Fall 2023 Deep Dive 2: Beta Decay\n",
    "\n",
    "Beta decay is a nuclear decay process in which an unstable nucleus decays into a less massive one by emitting a beta particle. Beta decay plays a crucial role in the dynamics of radioactive elements and contributes to the conversion of elements within stars through nuclear reactions. It is also important in the context of particle physics, helping to uncover fundamental properties of subatomic particles. \n",
    "\n",
    "Here, we will use the beta decay spectrum of tritium as a model to investigate the many features of beta decay theory, experimental considerations, and the statistical framework needed to claim a discovery."
   ]
  },
  {
   "cell_type": "markdown",
   "id": "82e23bd9",
   "metadata": {},
   "source": [
    "## Problem 1\n",
    "\n",
    "### 1a. Beta Decay Spectrum for a Massive Neutrino\n",
    "\n",
    "In section, we derived the shape of the distribution of electron kinetic energy,$T_e$, for beta decay in the limit of a massless neutrino. To derive this, we start in the rest frame of the parent nucleus. We assume that the three-momenta of the daughter nucleus ($\\vec{p_N}$), electron ($\\vec{p_e}$), and (anti)neutrino ($\\vec{p_\\nu}$) are all non-nelgigible. This means that the electron and (anti)neutrino can each be omitted in any direction; momentum conservation can always be enforced by setting $\\vec{p_N} = \\vec{p_e} + \\vec{p_\\nu}$. We next assume that since $m_N >> m_e$, the kinetic energy of the nucleus is negligible. Therefore, energy conservation implies:\n",
    "\n",
    "$$ T_e + T_\\nu =  M_p - M_d - m_e \\equiv Q$$\n",
    "\n",
    "where $T_i$ is the kinetic energy of particle $i$, $M_p$ is the mass of the parent nucleus, $M_d$ is the mass of the daughter nucleus. Note that we have defined the \"Q-value\" of the decay as the total _kinetic_ energy in the system after the decay. This is a fixed quantity for a given beta-decaying nucleus. (As a side-note, there are some rare isotopes which can either single- or double-beta decay. In this case, the two Q-values will be different, and the phase space factor for the double beta decay will also look very different.)\n",
    "\n",
    "To find the beta decay rate, we use Fermi's golden rule:\n",
    "\n",
    "$$ \\Gamma_{i\\rightarrow f} = \\frac{2\\pi}{\\hbar}|{\\langle i | \\mathcal{M} | f \\rangle}|^2 \\iint dN_\\nu dN_e \\delta(Q - T_e - T_\\nu)$$\n",
    "\n",
    "\n",
    "The goal is to transform the factors of $dN_i$ into factors of $dT_i$. We do this using the standard statistical mechanics approach of considering the density of states for a discrete lattice of states in a box of volume $V$:\n",
    "\n",
    "$$dN = \\frac{4\\pi V}{(2\\pi \\hbar)^3} p^2 dp$$\n",
    "\n",
    "The neutrino transformation is simple:\n",
    "\n",
    "$$ dT_\\nu = dp_\\nu $$\n",
    "\n",
    "The electron transformation is a bit more annoying:\n",
    "\n",
    "\\begin{align}\n",
    "p_e &= \\sqrt{T_e^2 + 2m_e T_e}\\\\\n",
    "dp_e &= dT_e \\frac{T_e + m_e}{\\sqrt{T_e^2 + 2m_e T_e}}\n",
    "\\end{align}\n",
    "\n",
    "Plugging all of this into Fermi's golden rule, we can replace all instances of $T_\\nu$ with $Q - T_e$ by integrating out $\\delta(Q - T_e - T_\\nu) dT\\nu$. The final decay rate is thus:\n",
    "\n",
    "\n",
    "$$ \\Gamma_{i\\rightarrow f} = \\frac{2\\pi}{\\hbar}|{\\langle i | \\mathcal{M} | f \\rangle}|^2 \\frac{16\\pi^2 V^2}{(2\\pi \\hbar)^6}\\int_0^Q dT_e \\left(Q-T_e\\right)^2\\left(T_e+m_e\\right)\\sqrt{T_e^2+2m_e T_e} $$\n",
    "\n",
    "Doing this integral, you would find that the total decay rate scales as $Q^5$. This result is known as Sargent's rule and it is useful to keep in mind during isotope selection for an experiment. Here, we are specifically interested in the electron kinetic energy spectrum, so we take the derivative with respect to $T_e$. Grouping all of the constants into a power of an effective energy scale $\\Lambda$, we have:\n",
    "\n",
    "$$ \\frac{d\\Gamma}{dT_e} = \\frac{1}{\\Lambda^6} \\left(Q-T_e\\right)^2\\left(T_e+m_e\\right)\\sqrt{T_e^2+2m_e T_e} $$\n",
    "\n",
    "**Question:** Conduct a similar calculation, or make a sufficiently compelling argument, to show that the spectrum of the electron kinetic energy in the case of a massive neutrino is:\n",
    "\n",
    "$$ \\frac{d\\Gamma}{dT_e} \\propto \\left(Q-T_e\\right)\\left(T_e+m_e\\right)\\sqrt{\\left(T_e^2+2m_e T_e\\right)\\left[\\left(Q-m_\\nu-T_e\\right)^2+2m_\\nu\\left(Q-m_\\nu-T_e\\right)\\right]} $$\n",
    "\n",
    "*Note: In this formulation, we define Q such that $ Q \\equiv M_p - M_d - m_e $ still holds. This means $Q =  T_e + T_\\nu + m_\\nu$. This function is 0 at $T_e = 0$ and $T_e = Q - m_\\nu$. This is a helpful way to keep Q fixed as we vary the neutrino mass, but still enforce an effective endpoint of $Q - m_\\nu$.*"
   ]
  },
  {
   "cell_type": "markdown",
   "id": "14d728bf",
   "metadata": {},
   "source": [
    "Write your answer here."
   ]
  },
  {
   "cell_type": "markdown",
   "id": "785dfd98",
   "metadata": {},
   "source": [
    "### 1b. Massive Neutrino Endpoint Spectra\n",
    "\n",
    "**Question:** Let's now model the beta decay spectrum for tritium. The Q-value for tritium beta decay is 18.6 keV. Using $m_e$ = 511 keV, plot the beta decay spectrum for $m_\\nu = \\{0, 1, 2, 3, 5\\}$ eV. Plot the four spectra with an energy axis ranging from 0 to at least 18.6 keV. In order to see the differences in the spectra, you will need to zoom to a small region near the endpoint, $T_e = Q$. Plot the spectra again with an energy axis of 18.59 keV to 18.6 keV."
   ]
  },
  {
   "cell_type": "code",
   "execution_count": null,
   "id": "0e339cca",
   "metadata": {},
   "outputs": [],
   "source": [
    "#Below is some starter code\n",
    "\n",
    "import numpy as np\n",
    "import matplotlib.pyplot as plt\n",
    "from scipy.integrate import quad\n",
    "%matplotlib notebook"
   ]
  },
  {
   "cell_type": "code",
   "execution_count": null,
   "id": "4cbe38e1",
   "metadata": {},
   "outputs": [],
   "source": [
    "def Beta(T, Q, m_e, m_nu):\n",
    "    return"
   ]
  },
  {
   "cell_type": "code",
   "execution_count": null,
   "id": "1ce01906",
   "metadata": {},
   "outputs": [],
   "source": [
    "Q_t = 18.6; #keV\n",
    "m_e = 511; #keV\n",
    "m_nus = np.array([0,1,2,3,5])*1.0e-3 #convert to eV"
   ]
  },
  {
   "cell_type": "markdown",
   "id": "19b75c79",
   "metadata": {},
   "source": [
    "### 1c. The Fermi Function\n",
    "\n",
    "\n",
    "There are two types of beta decay: beta-minus ($\\beta^-$) and beta-plus ($\\beta^+$). In beta-minus decay, a neutron is converted into a proton, an electron, and an antineutrino. In beta-plus decay, a proton is transformed into a neutron, a positron, and a neutrino. \n",
    "\n",
    "Based on our above work, for a given nuclear matrix element, the lepton kinetic energy spectra should look identical for ($\\beta^-$) and ($\\beta^+$) decay. However, this is not what we observe in nature. The primary explanation for this is the electromagnetic interaction between the emitted charged particle and the nucleus via the Coulomb potential. This interaction shifts the positron spectrum to higher energies relative to the electron spectrum. In addition, there is a quantum mechanical effect due to the classically disallowed region of the positron wavefunction due to the electromagnetic potential. This suppresses the low-energy end of the positron spectrum.\n",
    "\n",
    "To describe these effects, we define the *Fermi function* as:\n",
    "\n",
    "$$ F^{\\pm}(y) = \\frac{2\\pi y}{1 - e^{-2\\pi y}}, \\hspace{16pt} y = \\mp \\alpha Z_{daughter} \\frac{E_e}{p_e} = \\mp \\alpha Z_{daughter} \\frac{T_e + m_e}{\\sqrt{T_e^2 + 2m_e T_e}} $$\n",
    "\n",
    "where $\\alpha \\approx \\frac{1}{137}$ is the fine-structure constant. Note that we use the *positive* $Z_{daughter}$ value for beta-*minus* decay and vice-versa. Multiplying the beta decay spectrum by the fermi function gives nice corrections that describe both the differences in $|Z|$ and differences between $\\beta^-$ and $\\beta^+$ decay.\n",
    "\n",
    "**Question:** Using the massless neutrino spectrum, plot the tritium distribution $d\\Gamma/dT_e$, including the Fermi function term, for $Z = \\{-2, -1, 0, 1, 2\\}$. Normalize each spectrum so the area under the curve on $T_e \\in [0, Q]$ is 1. (You can calculate this normalization coefficient however you want, but I would suggest using scipy's integrate package.) "
   ]
  },
  {
   "cell_type": "code",
   "execution_count": null,
   "id": "926f5ea4",
   "metadata": {},
   "outputs": [],
   "source": [
    "def Fermi(T, Z, m):\n",
    "    y = Z/137.0*(T+m)/np.sqrt(T**2 + 2*m*T)\n",
    "    return 2*np.pi*y / (1 - np.exp(-2*np.pi*y))"
   ]
  },
  {
   "cell_type": "code",
   "execution_count": null,
   "id": "a4e8833c",
   "metadata": {},
   "outputs": [],
   "source": [
    "#Write your answer here"
   ]
  },
  {
   "cell_type": "markdown",
   "id": "6689f518",
   "metadata": {},
   "source": [
    "## Problem 2\n",
    "\n",
    "### 2a. Generating the massive neutrino spectrum\n",
    "\n",
    "**Question:** We now want to simulate a beta decay spectroscopy experiment in which we will seek to measure the mass of the neutrino. To do this, generate $N = 10^4$ events distributed according to the beta decay spectrum. We want to examine only the events near the endpoint in a window of with $W$, so consider only events with kinetic energies $Q - W < T_e < Q$. Using the massive-neutrino beta decay spectrum from Problem 1, generate $N=10^4$ events with $W = 25 \\text{ eV}$. Take the mass of the neutrino to be $m_\\nu = 1 \\text{ eV}$. Again, use $Q = 18.6 \\text{ keV}$. \n",
    "\n",
    "*Note: You do not need to use the Fermi function from problem 1 in this problem.*"
   ]
  },
  {
   "cell_type": "code",
   "execution_count": null,
   "id": "79dbf807",
   "metadata": {},
   "outputs": [],
   "source": [
    "def MakeData(N, Q, m_e, m_nu, Tmin, Tmax):\n",
    "    return data"
   ]
  },
  {
   "cell_type": "code",
   "execution_count": null,
   "id": "8576389e",
   "metadata": {},
   "outputs": [],
   "source": [
    "#All energies and masses are in units of keV\n",
    "Q0 = 18.6;\n",
    "m_e = 511;\n",
    "m_nu = 1.0*1e-3; #convert to eV\n",
    "\n",
    "\n",
    "N = 1e4;"
   ]
  },
  {
   "cell_type": "markdown",
   "id": "1af7d979",
   "metadata": {},
   "source": [
    "### 2b. Log-likelihood for the mass of the neutrino\n",
    "\n",
    "**Question:** Construct the likelihood function of the neutrino mass $m_\\nu$ given the data you have generated. Be sure to account for the fact that different values of $m_\\nu$ will give rise to different normalization factors near the endpoint. *Hint: You can include this term outside the sum over the events of log(probability).*"
   ]
  },
  {
   "cell_type": "code",
   "execution_count": null,
   "id": "f586009d",
   "metadata": {
    "scrolled": true
   },
   "outputs": [],
   "source": [
    "#Write your answer here"
   ]
  },
  {
   "cell_type": "markdown",
   "id": "1b561f2b",
   "metadata": {},
   "source": [
    "**Question:** Report your best-fit value of $m_\\nu$ given the data and the uncertainty interval at $\\pm 1\\sigma$ (or $-2\\Delta \\log\\mathcal{L} = 1)$. Is this compatible with the value of $m_\\nu$ used to simulate the data?"
   ]
  },
  {
   "cell_type": "markdown",
   "id": "cbdbe6c8",
   "metadata": {},
   "source": [
    "Report your result here."
   ]
  },
  {
   "cell_type": "markdown",
   "id": "07224704",
   "metadata": {},
   "source": [
    "### 2c. Optimal window choice\n",
    "\n",
    "Now, we should ask ourselves what is the optimal choice of window length $W$. As we increase the width of the window, we expect that the sensitivity of our likelihood function to the neutrino mass should decrease. However, if we decrease the window too much, we have fewer events to constrain the spectral shape at the endpoint, so the sensitivity again decreases. There should be an optimal choice somwhere in between.\n",
    "\n",
    "**Question:** Perform a cut on your data, accepting only events with $T_e > Q - W$ for $W = \\{ 25, 20, 15, 10, 5, 3, 1\\}\\text{ eV}$. Plot the log likelihood function for each one.\n"
   ]
  },
  {
   "cell_type": "code",
   "execution_count": null,
   "id": "a969bdd1",
   "metadata": {},
   "outputs": [],
   "source": [
    "#Write your answer here"
   ]
  },
  {
   "cell_type": "markdown",
   "id": "0785b843",
   "metadata": {},
   "source": [
    "**Question:** Which choice of window is the best and why? What happens to the log-likelihood as $W$ decreases? What happens in the limit $W \\rightarrow m_\\nu$? Do your results agree with this expectation? Explain.\n"
   ]
  },
  {
   "cell_type": "markdown",
   "id": "079165e6",
   "metadata": {},
   "source": [
    "Write your answer here."
   ]
  },
  {
   "cell_type": "markdown",
   "id": "e350c2d3",
   "metadata": {},
   "source": [
    "### 2d. Response functions and smearing\n",
    "\n",
    "You may notice that if an event occurs at a particular $T_0$, then the likelihood function for $m_\\nu > Q - T_0$ goes to zero. (You may have even gotten some python warnings about trying to evaluate the square root of a negative number or something like that.) In practice, this is not really the case. There are two major things that experimentalists can take into account: detector response functions and backgrounds. In this problem, we will briefly explore detector response functions. We will address the addition of backgrounds in problem 3.\n",
    "\n",
    "A physical detector will never perfectly reconstruct the energy of a physical event that occurs in the detector. Instead, we expect the detector to exhibit some *response* to the energy deposition from the event. A natural guess (and often a good one) is to model the response to an event with energy $E_0$ as a probability distribution of measured energies:\n",
    "\n",
    "$$ \\rho(E_{measured} | E_0) = \\frac{1}{\\sqrt{2\\pi\\sigma^2}}e^{-(E_{measured} - E_0)^2 / 2\\sigma^2}$$\n",
    "\n",
    "This is never truly 0, though the likelihood decreases extremely rapidly as $E_{measured}$ diverges from $E_0$. This makes it useful when computing the likelihood.\n",
    "\n",
    "To model the impact of the detector response on the energy spectrum, you can generate the spectrum as before to get the set of $E_0$ values. Then, for each $E_0$, get a new energy $E_{measured}$ by drawing a random sample from $\\rho(E_{measured} | E_0)$. This is sometimes referred to as \"smearing\" the data.\n",
    "\n",
    "**Question:** Generate 1000 energy spectra using your code from problem 2a. For each spectrum, record the maximum energy value. Next, smear the spectra with a resolution function with a standard deviation of 1 eV, and again record the maximum energy value in each spectrum. Make a scatter plot of the original maximum energies versus the smeared maximum energies. Do you get energy values that are beyond the physical endpoint?"
   ]
  },
  {
   "cell_type": "code",
   "execution_count": null,
   "id": "73a569b4",
   "metadata": {},
   "outputs": [],
   "source": [
    "#Write your answer here"
   ]
  },
  {
   "cell_type": "markdown",
   "id": "245c3ceb",
   "metadata": {},
   "source": [
    "Write your answer here."
   ]
  },
  {
   "cell_type": "markdown",
   "id": "6d6c07fe",
   "metadata": {},
   "source": [
    "## Problem 3\n",
    "\n",
    "### 3a. Adding Backgrounds\n",
    "\n",
    "In a typical experiment, we hope to have small, but inevitably non-negligible numbers of background events in the data. To include the presence of background events in our model, we need to define the *background index.* The background index is typically expressed in units of counts/Energy/exposure. Exposure is a vague term, but we'll come back to it later. In the simple case of a flat background, the number of observed counts at any particular energy is the same, so the total number of counts must scale linearly with the width of our energy axis, $\\Delta E$. We also assume that the number of background counts scales linearly with the live time of the detector, $t$. In total this gives us: $N_{background} \\propto t \\Delta E$. This constant of proportionality is called the *background index*: $$b \\equiv \\frac{N_{background}}{t\\Delta E}$$\n",
    "\n",
    "It is popular to normalize the background index by dividing by the mass of the detector or sample. Our number of background counts can be normalized by either $t$ or $Mt$ where $M$ is the mass of the detector, so you will often see this value reported in units of counts/keV/kg/yr. We will later roll in the mass normalization.\n",
    "\n",
    "The number of beta decay events observed during the experiment, $N_{signal}$, is given by: \n",
    "\n",
    "$$ N_{signal} = N_0 ( 1 - e^{-\\Gamma t})$$\n",
    "\n",
    "In the limit that the live-time of the experiment is small compared to $1/\\Gamma$, then the number of beta decays during the experiment is simply $N_0 t \\Gamma $, where $N_0$ is the starting number of tritium nuclei. We know that the half-life is 12.32 years, so the decay rate is $\\Gamma = 1.78\\times10^{-19} s^{-1}$. Considering only events with $T_e < Q$, we have:\n",
    "\n",
    "$$N_{signal} = \\Gamma t N_0 \\hspace{16 pt} N_{background} = Q t b$$.\n",
    "\n",
    "Now, we introduce the mass normalization. Starting with $N_0$ tritium atoms is the same as starting with a mass $M_0 = N_0 m_T$, where $m_T \\approx 3 u$ is the mass of the tritium atom. Using this, we can convert $N_0$ to a mass and divide it out in the background index:\n",
    "\n",
    "$$N_{signal} = \\Gamma t M_0 / m_T $$\n",
    "\n",
    "Putting this all together gives us:\n",
    "\n",
    "$$N_{background} = N_{signal} \\frac{Q m_T}{\\Gamma}\\frac{b}{M_0} = N_{signal} \\frac{Q m_T}{\\Gamma}\\mathcal{B}$$\n",
    "\n",
    "where $\\mathcal{B}$ is our new background index, normalized by the detector mass. This is a nice quantity to work with because it only depends on physical constants and $N_{background}$. This is also nice for our monte carlo. It means that every time we generate ${\\Gamma}/{(Q m_T\\mathcal{B})}$ signal events, we should generate 1 background event somewhere between $0$ and $Q$.\n",
    "\n",
    "**Question:** Write down the probability distribution for the kinetic energy of the electron with a background index $\\mathcal{B}$. Do not use the Fermi function and do not apply any smearing. You are free to write your result from problem 1a. as simply $\\beta(T, Q, m_e, m_\\nu)$. Use this to rewrite the log likelihood to include background events, being sure to properly normalize. You should still work on the domain $T_e \\in [0, Q]$. "
   ]
  },
  {
   "cell_type": "markdown",
   "id": "d5ba8fc9",
   "metadata": {},
   "source": [
    "Write your answer here."
   ]
  },
  {
   "cell_type": "markdown",
   "id": "19c2b284",
   "metadata": {},
   "source": [
    "**Question:** Plot the likelihood function for another set of events inside a 25 eV window. Generate $10^4$ signal events and $100$ uniformly distributed background events *inside the window*. What is the value of $\\mathcal{B}$ given this setup? Is this realistic? Why or why not? Hint: To solve the last part correctly, you should compute the ratio of two integral quantities."
   ]
  },
  {
   "cell_type": "code",
   "execution_count": null,
   "id": "50213ef5",
   "metadata": {},
   "outputs": [],
   "source": [
    "#Write your answer here"
   ]
  },
  {
   "cell_type": "markdown",
   "id": "af5c5803",
   "metadata": {},
   "source": [
    "### 3b. Toy Experiments on Data with Background\n",
    "\n",
    "Now, let's conduct several toy experiments with a smaller neutrino mass ($m_\\nu = 0.5 \\text{ eV}$). Using high statistics, we want to estimate how many beta decay events we would need to measure the neutrino mass to $3\\sigma$ for different background indices. Conduct 16 experiments, each of which uses a unique combination of two parameters:\n",
    "\n",
    "1. The number of signal events per experiment inside the energy window, $N_{sig, W} = \\{10^4,3\\times10^4,10^5,3\\times10^5\\}$\n",
    "2. The number of background events per experiment inside the energy window, $N_{bkg, W} = \\{1, 3, 10, 30\\}$\n",
    "\n",
    "**Question:** For each experiment, generate the data, use the likelihood function to find the most likely value of the neutrino mass and the $\\pm 1\\sigma$ interval. Finally, for each value of $N_{bkg,W}$, make a scatter plot of the measured mass, with asymmetric error bars representing the $\\pm 1\\sigma$ interval, versus $N_{sig, W}$. Use unique colors and/or markers for each plot, and put all four plots on a single set of axes. Do any of your experiments show evidence ($3\\sigma$) for a non-zero neutrino mass? If so, which ones? If not, which experiment is the most sensitive, and how many $\\sigma$ is the best fit value of the neutrino mass from 0 in that experiment? "
   ]
  },
  {
   "cell_type": "code",
   "execution_count": null,
   "id": "cd46b559",
   "metadata": {},
   "outputs": [],
   "source": [
    "#Write your answer here"
   ]
  }
 ],
 "metadata": {
  "kernelspec": {
   "display_name": "Python 3 (ipykernel)",
   "language": "python",
   "name": "python3"
  },
  "language_info": {
   "codemirror_mode": {
    "name": "ipython",
    "version": 3
   },
   "file_extension": ".py",
   "mimetype": "text/x-python",
   "name": "python",
   "nbconvert_exporter": "python",
   "pygments_lexer": "ipython3",
   "version": "3.9.15"
  }
 },
 "nbformat": 4,
 "nbformat_minor": 5
}
