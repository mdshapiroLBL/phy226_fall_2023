{
 "cells": [
  {
   "cell_type": "markdown",
   "id": "0",
   "metadata": {},
   "source": [
    "# Physics 226 Fall 2023 Deep Dive 4 \n",
    "\n",
    "## CKM Matrix, Mixing and CP Violation"
   ]
  },
  {
   "cell_type": "markdown",
   "id": "4f8bea89",
   "metadata": {},
   "source": [
    "This deep dive covers weak decays and the CKM matrix, mix and CP violation.  These topics are covered in Thomson  Chaper 14.  You can also find addition details on mixing and CP violation in the slides from the Fall 2018 Physics 226 class:\n",
    "\n",
    "https://bcourses.berkeley.edu/files/84740514/download?download_frd=1\\\\         \n",
    "\n",
    "https://bcourses.berkeley.edu/files/84740516/download?download_frd=1\\\\   "
   ]
  },
  {
   "cell_type": "markdown",
   "id": "1",
   "metadata": {},
   "source": [
    "## Question 1: Cabbibo Allowed and Cabbibo Suppressed Decays (20 points)"
   ]
  },
  {
   "cell_type": "markdown",
   "id": "2",
   "metadata": {},
   "source": [
    "### Learning objectives\n",
    "In this question you will:\n",
    "\n",
    "- Understand how CKM matrix elements affect decay rates\n"
   ]
  },
  {
   "cell_type": "markdown",
   "id": "2ae16859",
   "metadata": {},
   "source": [
    "Estimate the relative rates for the following four decay modes of\n",
    "the $D^0(c\\overline{u})$ meson: $D^0 \\rightarrow K^-\\pi^+$,\n",
    "$D^0 \\rightarrow \\pi^-\\pi^+$, $D^0 \\rightarrow K^+\\pi^-$,\n",
    "$D^0 \\rightarrow \\pi^0\\pi^0$.\n",
    "Express these as the branching ratio of each decay mode divided by\n",
    "the branching ratio for $D^0 \\rightarrow K^-\\pi^+$.\n",
    "As part of your answer, draw Feynman diagrams\n",
    "involving $W$ bosons for each decay.  How well do your estimates agree \n",
    "with the experimental ratios?  Note:  One of these decays needs a Feynman diagram\n",
    "that is topologically different from the others.  Using the fact that the $W$ is a color\n",
    "singlet and that all hadrons are color singlets, explain why the rate predicted for this\n",
    "decay will differ from the others.\n"
   ]
  },
  {
   "cell_type": "markdown",
   "id": "359fd961",
   "metadata": {},
   "source": [
    "write answer here"
   ]
  },
  {
   "cell_type": "markdown",
   "id": "a1b76e38",
   "metadata": {},
   "source": [
    "# Question 2 CP Violation in the Kaon system (30 points)"
   ]
  },
  {
   "cell_type": "markdown",
   "id": "5304436c",
   "metadata": {},
   "source": [
    "### Learning objectives\n",
    "In this question you will:\n",
    "\n",
    "- Lean how the parameter $\\epsilon$ is related to CP violation in the Kaon system\n"
   ]
  },
  {
   "cell_type": "markdown",
   "id": "a77ac513",
   "metadata": {},
   "source": [
    "### 1a\n",
    "\n",
    " Show that the total decay rates for $K^0 \\rightarrow \\pi^- e^+ \\nu_e$\n",
    "and ${\\overline{ K_0}} \\rightarrow \\pi^+ e^- \\overline{\\nu_e}$ are\n",
    "equal if CP is conserved (saying CP is conserved is the equivalent of\n",
    "saying that the mass eigenstates are the CP eigenstates $|K_1>$ and\n",
    "$|K_2>$).\n"
   ]
  },
  {
   "cell_type": "markdown",
   "id": "fdec55fc",
   "metadata": {},
   "source": [
    "write answer here"
   ]
  },
  {
   "cell_type": "markdown",
   "id": "9e846bbc",
   "metadata": {},
   "source": [
    "### 1b\n",
    "\n",
    "In reality the mass eigenstates $|K_S>$ and $|K_L>$ are NOT\n",
    "  CP eigenstates.  The mass eigenstates can be expressed as linear combinations\n",
    "  of the CP eigenstates\n",
    "  \n",
    "  \\begin{eqnarray*}\n",
    "   |K_S> & = & \\frac{1}{1+|\\epsilon|^2}\n",
    "    \\left (|K_1>+ \\epsilon |K_2> \\right ) \\\\\n",
    "    |K_L> & = & \\frac{1}{1+|\\epsilon|^2} \\left (|K_2>+\n",
    "    \\epsilon |K_1> \\right ) \\\\\n",
    "  \\end{eqnarray*}\n",
    "\n",
    "where $\\epsilon$ is a small number ($\\epsilon=2.26\\times 10^{-3}$\n",
    "If CP violiation occurs only through $|K^0>$-$|\\overline K^0>$\n",
    "mixing, show that\n",
    "\n",
    "$$A_{\\ell} \\equiv \\frac{\\Gamma ( K_L \\rightarrow \\pi^- e^+ \\nu_e) - \n",
    "\\Gamma ( K_L \\rightarrow \\pi^+ e^- \\overline \\nu_e)}\n",
    "{\\Gamma ( K_L \\rightarrow \\pi^- e^+ \\nu_e)+\n",
    "\\Gamma ( K_L \\rightarrow \\pi^+ e^- \\overline \\nu_e)} = 2 {\\rm Re} \\epsilon$$\n",
    "You may ignore terms of order $|\\epsilon|^2$\n"
   ]
  },
  {
   "cell_type": "markdown",
   "id": "d88be59a",
   "metadata": {},
   "source": [
    "Write answer here"
   ]
  },
  {
   "cell_type": "markdown",
   "id": "ad89e610",
   "metadata": {},
   "source": [
    "# Question 3: The $K_L$-$K_S$ mass difference (20 points)"
   ]
  },
  {
   "cell_type": "markdown",
   "id": "59ca7a01",
   "metadata": {},
   "source": [
    "### Learning objectives\n",
    "In this question you will:\n",
    "\n",
    "- Learn how 2nd order weak interactions generate a mass difference between the two mass eigenstates of the neutral kaon\n"
   ]
  },
  {
   "cell_type": "markdown",
   "id": "d5b04d0f",
   "metadata": {},
   "source": [
    "In degenerate perturbation theory, the degeneracy between two states of  initial Hamiltonian $H_0$  is often broken by the perturbabion.  This is the case for the neutral kaons, where before we consider weak interactions the two CP eigenstates $|K_1>$ and $|K_2>$ would have the same mass. Second order weak interaction box diagrams break the degeneracy, leading to a mass difference\n",
    "\n",
    "  $$\n",
    "  \\Delta m = m(K_L)-m(K_S) = \\sum_{q,q'}\n",
    "  \\frac{G_G^2}{3\\pi^2} f^2_K m_k \\left | V_{qd} V^*_{qs} V_{q'd}\n",
    "  V^*_{q's}\\right | m_q m_q'\n",
    "  $$\n",
    "  \n",
    "where $q$ and $q'$ are the quark flavors appearing the the box diagram, $m_K$ is the average value the $K_L$ and $K_S$ masses and $f_K$ is a constant with units of energy that is related to the meson wave function at the origin.\n",
    "  \n",
    "### 3a\n",
    "Using the values of the CKM matrix from the PDG and  taking $m_u=0.3$~GeV, $m_c=1.5$~GeV and $m_t=175$ GeV, find the relative contributions of these 3 quark species to the mass difference."
   ]
  },
  {
   "cell_type": "raw",
   "id": "7cf35d31",
   "metadata": {},
   "source": [
    "Write answer here"
   ]
  },
  {
   "cell_type": "markdown",
   "id": "088735dc",
   "metadata": {},
   "source": [
    "### 3b\n",
    "  \n",
    "Using $f_K=0.1$ GeV,  estimate the value of the mass difference.\n"
   ]
  },
  {
   "cell_type": "raw",
   "id": "b44087b7",
   "metadata": {},
   "source": [
    "Write your answer here"
   ]
  },
  {
   "cell_type": "markdown",
   "id": "d270aa97",
   "metadata": {},
   "source": [
    "# Question 4: Mixing in the $B^0$ and $B_S$ systems  (30 points)"
   ]
  },
  {
   "cell_type": "markdown",
   "id": "e94d4118",
   "metadata": {},
   "source": [
    "### Learning objectives\n",
    "In this question you will:\n",
    "\n",
    "- Learn how different CKM matrix element contributions to the mixing box diagram affect the mixing frequency\n",
    "\n",
    "Mixing has been observed in the neutral $B$ system, as well as the $K^0$ system.  Two important papers that demonstrated this fact are:\n",
    "\n",
    "- First observation of time integrated mixing: https://inspirehep.net/files/9e0bbf0e7e92a4c40d3e13bbcc2706e0\n",
    "- A high statistics measurement of $B^0$-$\\overline B^0$ mixing:  https://arxiv.org/pdf/hep-ex/0011010.pdf"
   ]
  },
  {
   "cell_type": "markdown",
   "id": "4",
   "metadata": {
    "flags": [
     "problems",
     "solutions"
    ]
   },
   "source": [
    "### 4a.\n",
    "Draw the box diagrams responsible for mixing in the $B^0$  and $B_s^0$ systems\n"
   ]
  },
  {
   "cell_type": "markdown",
   "id": "5",
   "metadata": {},
   "source": [
    "Write your answer here"
   ]
  },
  {
   "cell_type": "markdown",
   "id": "7",
   "metadata": {
    "flags": [
     "problems",
     "solutions"
    ]
   },
   "source": [
    "### 4b\n",
    "The mass difference between the $B_1$ and $B_2$ can\n",
    "  be calculated using the same strategy as for the neutral kaons.\n",
    "  Show that for the $B^0$ and the $B_S$ the mass difference is dominated\n",
    "  by the diagram with an intermediate top quark.\n",
    "Show that if you only consider this\n",
    "dominant diagram, the ratio of $\\Delta m$ for the case of the $B_0$ \n",
    "to $\\Delta m_s$ for the case of the $B_s$ can be related to the\n",
    "ratio of the CKM matrix elements $|V_{td}/V_{ts}|$."
   ]
  },
  {
   "cell_type": "markdown",
   "id": "8",
   "metadata": {},
   "source": [
    "Write your answer here"
   ]
  },
  {
   "cell_type": "markdown",
   "id": "d41dedbe",
   "metadata": {},
   "source": [
    "### 4c\n",
    "The size of the mixing can be described in terms of two\n",
    "parameters\n",
    "$$ \\Delta x = \\frac{\\Delta m}{\\overline m} \\;\\;{\\rm and}\\;\\;\n",
    "\\Delta y = \\frac{\\Delta \\Gamma}{\\Gamma} $$\n",
    "where $\\overline m$ and $\\Gamma $ are the average mass and average\n",
    "inverse lifetime of the $|B_2>$ and $|B_1>$ states and\n",
    "$\\Delta m$ and $\\Delta \\Gamma$ are the differences in mass and\n",
    "lifetime.  In the $B$ system, $y$ is small because there are\n",
    "a large number of states multibody final states available both to \n",
    "the $B$ and $\\overline B$ decay.\n",
    "Hence there is no significant difference in\n",
    "the lifetimes of the two states.\n",
    "  Thomson\n",
    "  gives the expressions for the time dependence in Section 14.6.2.  If\n",
    "  a $B^0$ is created at time $t=0$ the proababilities of it being a\n",
    "  $B^0$ and or a $\\overline B^0$ when it decays at are:\n",
    "  \n",
    "  \\begin{eqnarray*}\n",
    "    P(B^0_{t=0} \\rightarrow B^0) & = & e^{-\\Gamma t} \\cos^2 \\left ( \\frac{1}{2}\n",
    "    \\Delta m t\\right ) \\\\\n",
    "    P(B^0_{t=0} \\rightarrow \\overline B^0) & = & e^{-\\Gamma t} \\sin^2 \\left ( \\frac{1}{2}\n",
    "    \\Delta m t\\right ) \\\\\n",
    "  \\end{eqnarray*}\n",
    "  \n",
    "Suppose our state is produced\n",
    "as a $B^0$ (contains a $\\overline b$ quark) at time $t=0$.  Show\n",
    "that the ratio of the decay probabilities:\n",
    "\n",
    "$$\\frac{{\\rm Prob}(B \\rightarrow \\overline B \\rightarrow \\ell^- X)}\n",
    "{{\\rm Prob}(B \\rightarrow  \\ell^+ X)} = \\frac{x^2}{2+x^2} $$\n",
    "\n",
    "in the limit where $\\Delta y$ is zero and where $x$ is defined as $x\\equiv \\frac{\\Delta m}{\\Gamma}$.  This expression indicates that it\n",
    "is possible, at least for some values of $x$ to determine $\\Delta m$\n",
    "without observing the time dependence of the mixing.\n"
   ]
  },
  {
   "cell_type": "markdown",
   "id": "dbfad7e2",
   "metadata": {},
   "source": [
    "Write answer here "
   ]
  },
  {
   "cell_type": "markdown",
   "id": "689b7c52",
   "metadata": {},
   "source": [
    "### 4d.\n",
    "What are the curent measured values of $x$ in the case of the\n",
    "$B^0$ and the $B_s$?  Explain for each case whether a time integrated\n",
    "mixing measurement is a good method to use.\n"
   ]
  },
  {
   "cell_type": "markdown",
   "id": "4355985d",
   "metadata": {},
   "source": [
    "Write answer here"
   ]
  },
  {
   "cell_type": "markdown",
   "id": "73050e96",
   "metadata": {},
   "source": [
    "### 4e\n",
    "Measurements of the time dependence of the mixing provides much better\n",
    "  estimates of $\\Delta m$ than time integrated ones do.  Consider the case where the neutral $B$ decays semileptonically to an\n",
    "  $\\ell^+$ or $\\ell^-$.  If at $t=0$, the meson is a $B^0$,\n",
    "  using the PDG values of the $B^0$ lifetime and of $\\Delta m$, make a plot\n",
    "  of the asymmetry\n",
    "  \n",
    "  $$\n",
    "A = \\frac{N(\\ell^-) -N(\\ell^-)}{N(\\ell^-) +N(\\ell^-)}\n",
    "    $$\n",
    "    \n",
    "for proper times between 0 and 5 lifetimes.\n"
   ]
  },
  {
   "cell_type": "code",
   "execution_count": 2,
   "id": "93a97373",
   "metadata": {},
   "outputs": [],
   "source": [
    "# Write answer here"
   ]
  }
 ],
 "metadata": {
  "kernelspec": {
   "display_name": "Python 3 (ipykernel)",
   "language": "python",
   "name": "python3"
  },
  "language_info": {
   "codemirror_mode": {
    "name": "ipython",
    "version": 3
   },
   "file_extension": ".py",
   "mimetype": "text/x-python",
   "name": "python",
   "nbconvert_exporter": "python",
   "pygments_lexer": "ipython3",
   "version": "3.9.13"
  }
 },
 "nbformat": 4,
 "nbformat_minor": 5
}
