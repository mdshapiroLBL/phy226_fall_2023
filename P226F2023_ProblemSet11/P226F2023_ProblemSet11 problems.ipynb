{
 "cells": [
  {
   "cell_type": "markdown",
   "metadata": {},
   "source": [
    "# Physics 226 Fall 2023 Problem Set 11 Due Nov 12"
   ]
  },
  {
   "cell_type": "markdown",
   "metadata": {},
   "source": [
    "## Question 1:  Resonances:  The width of the $J/\\psi$  (24 points)"
   ]
  },
  {
   "cell_type": "markdown",
   "metadata": {},
   "source": [
    "### Learning objectives\n",
    "In this question you will:\n",
    "\n",
    "- Learn how the properties of Breit-Wigner resonances can be used to determine a particle's width\n"
   ]
  },
  {
   "cell_type": "markdown",
   "metadata": {},
   "source": [
    "One of the original papers on the discovery of the $\\psi$  [PRL {\\bf 33}, 1406 (1974)] stated that the upper bound on the width of the resonance was 1.3 MeV.  However, J. D. Jackson understood that every resonance  is described by a Breit-Wigner.  He observed that the area under the resonance curve of $\\sigma (e^+e^-\\to {\\rm hadrons}$) (Figure 1a of the $\\psi$  discovery paper) as a function of the energy $E=\\sqrt s$ was $11.5 \\times 10^3$~nb~MeV, while the area under the curve  $\\sigma (e^+e^-\\to \\mu^+\\mu^-)$ (Figure 1c of the same paper) was $7.2\\times 10^2$~nb~MeV.  Use these facts to determine the true width of the $\\psi$ and its  branching ratio to $\\mu^+\\mu^-$.  Assume branching ratio of the $\\psi$ to $\\mu^+\\mu^-$ is the same as the branching ratio to $e^+e^-$ and that the only three possible decays modes of the $\\psi$ are to $e^+e^-$ pairs, to $\\mu^+\\mu^-$ pairs and to hadrons.\n",
    "  \n",
    "#### Note \\# 1:\n",
    "Because Mark-I detector's ability to identify muons was poor, it could not unambigously tell whether the events entering Figure 1c of the $\\psi$ discovery paper were in fact muons rather\n",
    "than pions or kaons.  Subsequent measurements have confirmed that the muon hypothesis was in fact\n",
    "correct.\n",
    "\n",
    "#### Note \\# 2: \n",
    "This problem depends on understanding the properties of a Breit-Wigner resonance.  See for example Eq. 5 in http://www-pnp.physics.ox.ac.uk/~barra/teaching/resonances.pdf"
   ]
  },
  {
   "cell_type": "markdown",
   "metadata": {},
   "source": [
    "Write your answer here"
   ]
  },
  {
   "cell_type": "markdown",
   "metadata": {},
   "source": [
    "## Question 2: What is $X$? (20 points)"
   ]
  },
  {
   "cell_type": "markdown",
   "metadata": {},
   "source": [
    "### Learning objectives\n",
    "In this question you will:\n",
    "\n",
    "- Use conservation laws to determine what particles are needed to make a process possible via the weak interaction"
   ]
  },
  {
   "cell_type": "markdown",
   "metadata": {},
   "source": [
    "For each of the weak interations listed below replace the unknown $X$ with the appropriate particle:"
   ]
  },
  {
   "cell_type": "markdown",
   "metadata": {},
   "source": [
    "### 2a."
   ]
  },
  {
   "cell_type": "markdown",
   "metadata": {},
   "source": [
    " $ \\pi^+ \\rightarrow \\pi^0 + e^+ + X $"
   ]
  },
  {
   "cell_type": "markdown",
   "metadata": {},
   "source": [
    "Write your answer here"
   ]
  },
  {
   "cell_type": "markdown",
   "metadata": {},
   "source": [
    "### 2b."
   ]
  },
  {
   "cell_type": "markdown",
   "metadata": {},
   "source": [
    " $ X \\rightarrow e^+ \\nu_e \\overline \\nu_\\mu$"
   ]
  },
  {
   "cell_type": "markdown",
   "metadata": {},
   "source": [
    "Write your answer here"
   ]
  },
  {
   "cell_type": "markdown",
   "metadata": {},
   "source": [
    "### 2c."
   ]
  },
  {
   "cell_type": "markdown",
   "metadata": {},
   "source": [
    "$ K^+ \\rightarrow X e^+ \\nu_e$"
   ]
  },
  {
   "cell_type": "markdown",
   "metadata": {},
   "source": [
    "Write your answer here"
   ]
  },
  {
   "cell_type": "markdown",
   "metadata": {},
   "source": [
    "### 2d"
   ]
  },
  {
   "cell_type": "markdown",
   "metadata": {},
   "source": [
    " $ X + p \\rightarrow n + e^+ $"
   ]
  },
  {
   "cell_type": "markdown",
   "metadata": {},
   "source": [
    "Write your answer here"
   ]
  },
  {
   "cell_type": "markdown",
   "metadata": {},
   "source": [
    "### 2e."
   ]
  },
  {
   "cell_type": "markdown",
   "metadata": {},
   "source": [
    " $D^0 \\rightarrow K^- + \\pi^0 + \\nu_e  +  X $"
   ]
  },
  {
   "cell_type": "markdown",
   "metadata": {},
   "source": [
    "Write your answer here"
   ]
  },
  {
   "cell_type": "markdown",
   "metadata": {},
   "source": [
    "## Question 3 Helicity suppression in two body weak decays (30 points)"
   ]
  },
  {
   "cell_type": "markdown",
   "metadata": {},
   "source": [
    "### Learning objectives\n",
    "In this question you will:\n",
    "\n",
    "- Apply the expression for leptonic weak decays to the case of heavy mesons and demonstrate that the decay rates to different lepton species vary by many orders of magnitude"
   ]
  },
  {
   "cell_type": "markdown",
   "metadata": {},
   "source": [
    "Consider the rare leptonic  decay  $B^+ \\rightarrow \\ell^+ \\nu_\\ell$ (where the $B^+$ is a $u\\overline b $ meson"
   ]
  },
  {
   "cell_type": "markdown",
   "metadata": {},
   "source": [
    "### 3a."
   ]
  },
  {
   "cell_type": "markdown",
   "metadata": {},
   "source": [
    "Explain in words, with an accompanying diagram, why this decay is rare."
   ]
  },
  {
   "cell_type": "markdown",
   "metadata": {},
   "source": [
    "Write your answer here"
   ]
  },
  {
   "cell_type": "markdown",
   "metadata": {},
   "source": [
    "### 3b."
   ]
  },
  {
   "cell_type": "markdown",
   "metadata": {},
   "source": [
    "We saw in class that the charged pion has a partial width for its decay to a muon\n",
    "$$                                                                                                             \n",
    "\\Gamma(\\pi^+\\rightarrow \\mu^+\\nu)  = \\frac{G^2}{8\\pi} f_\\pi^2 m_\\pi m_\\mu^2                                    \n",
    "\\left(  1 - \\frac{m_\\mu^2}{m_\\pi^2}                                                                            \n",
    "\\right )^2                                                                                                     \n",
    "$$\n",
    "where $f_\\pi$ is a constant that is related to the $\\pi$ wave function at the origin, has units of mass. Using the analog of this expression, calculate the relative rates for the $B^+$ to decay to the 3 lepton species $e$, $\\mu$ and $\\tau$."
   ]
  },
  {
   "cell_type": "markdown",
   "metadata": {},
   "source": [
    "Write your answer here"
   ]
  },
  {
   "cell_type": "markdown",
   "metadata": {},
   "source": [
    "### 3c."
   ]
  },
  {
   "cell_type": "markdown",
   "metadata": {},
   "source": [
    "From the particle data group web page, state whether this decay has been observed for the cases of $\\ell=e$, $\\mu$ and $\\tau$ and if the decay has been observed, give the observed branching ratio and its uncertainy and the partial width for the decay."
   ]
  },
  {
   "cell_type": "markdown",
   "metadata": {},
   "source": [
    "Write your answer here"
   ]
  },
  {
   "cell_type": "markdown",
   "metadata": {},
   "source": [
    "## Question 4  $\\gamma^5$ and the Left Handed Projection Operator (26 points)"
   ]
  },
  {
   "cell_type": "markdown",
   "metadata": {},
   "source": [
    "### Learning objectives\n",
    "In this question you will:\n",
    "\n",
    "- Learn how the operator  $P_L = \\frac{1}{2} \\left ( 1-\\gamma^5 \\right)$ acts on massless particles "
   ]
  },
  {
   "cell_type": "markdown",
   "metadata": {},
   "source": [
    "In Lecture 20 we defined the chirality operator to be $\\gamma^5$ where the matrix $\\gamma^5$ is defined as\n",
    "\n",
    "$$\n",
    "\\gamma^5 = i \\gamma^0 \\gamma^1 \\gamma^2 \\gamma^3 = \\left (\\begin{array}{cccc} 0 & 0 & 1 & 0 \\\\ 0 & 0 & 0 & 1\\\\\n",
    "1 & 0 & 0 & 0 \\\\ 0 & 1 & 0 & 0\\\\\n",
    "\\end{array} \\right )\n",
    "$$\n",
    "\n",
    "We also defined the left and right projection operators $P_L$ and $P_R$ to be\n",
    "\n",
    "$$\n",
    "P_L = \\frac{1}{2} \\left (1 - \\gamma^5 \\right ) \\;\\;P_R = \\frac{1}{2} \\left (1 + \\gamma^5 \\right )\n",
    "$$\n",
    "\n",
    "In this problem you will prove some relationships about chirality that we used in class. \n",
    "\n",
    "Note: In your solutions, you are free to define your axes so that the fermion momentum is in the $z$-direction\n",
    "\n"
   ]
  },
  {
   "cell_type": "markdown",
   "metadata": {},
   "source": [
    "### 4a\n",
    "Show that the projections of  of the spinors are eigenstates of chirality with eigenvalues\n",
    "\n",
    "$$\n",
    "\\gamma^5 u_R = + u_R \\;\\;                                            \n",
    "\\gamma^5 u_L = - u_L \\;\\;                                            \n",
    "\\gamma^5 v_R = - v_R \\;\\;                                            \n",
    "\\gamma^5 v_L  = + v_L       \n",
    "$$"
   ]
  },
  {
   "cell_type": "markdown",
   "metadata": {},
   "source": [
    "Write your answer here"
   ]
  },
  {
   "cell_type": "markdown",
   "metadata": {},
   "source": [
    "### 4b\n",
    "\n",
    "Show that for the case of massless Dirac fermions the operator $P_L$ projects out left handed helicity states for particles and right handed helicity states for antiparticles.  In other words:\n",
    "\n",
    "\\begin{eqnarray*}\n",
    "P_L u_\\uparrow & = & 0 \\\\\n",
    "P_L u_\\downarrow & = & u_\\downarrow \\\\\n",
    "P_L v_\\uparrow & = & v_\\uparrow \\\\\n",
    "P_L v_\\downarrow & = & 0\n",
    "\\end{eqnarray*}\n",
    "\n",
    "where $\\uparrow$ refers to a state where $\\vec S \\cdot \\vec p$ is positive and $\\downarrow $ refers to a state \n",
    "where  $\\vec S \\cdot \\vec p$ is negative (where $\\vec S$ is the particle's spin)\n"
   ]
  },
  {
   "cell_type": "markdown",
   "metadata": {},
   "source": [
    "Write your answer here"
   ]
  },
  {
   "cell_type": "markdown",
   "metadata": {},
   "source": [
    "### 4c\n",
    "\n",
    "Show that for massive fermions the projections are not eigenstates  of helicity and the size of the \"wrong\" helicity component is proportional to $1-\\frac{|\\vec p|}{E+m}$ and that if $E>>m$ (keeping the first term in a Taylor expansion) this becomes $1-\\frac{v}{c}$\n"
   ]
  },
  {
   "cell_type": "markdown",
   "metadata": {},
   "source": [
    "Write your answer here"
   ]
  }
 ],
 "metadata": {
  "kernelspec": {
   "display_name": "Python 3 (ipykernel)",
   "language": "python",
   "name": "python3"
  },
  "language_info": {
   "codemirror_mode": {
    "name": "ipython",
    "version": 3
   },
   "file_extension": ".py",
   "mimetype": "text/x-python",
   "name": "python",
   "nbconvert_exporter": "python",
   "pygments_lexer": "ipython3",
   "version": "3.9.15"
  }
 },
 "nbformat": 4,
 "nbformat_minor": 4
}
