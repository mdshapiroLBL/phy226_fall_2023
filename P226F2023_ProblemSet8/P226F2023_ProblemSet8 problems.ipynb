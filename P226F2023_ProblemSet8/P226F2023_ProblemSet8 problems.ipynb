{
 "cells": [
  {
   "cell_type": "markdown",
   "metadata": {},
   "source": [
    "# Physics 226 Fall 2023 Problem Set 8 Due Sunday Oct 22"
   ]
  },
  {
   "cell_type": "markdown",
   "metadata": {},
   "source": [
    "## Question 1: Lorentz Invariant Phase Space (LIPS) (10 points)"
   ]
  },
  {
   "cell_type": "markdown",
   "metadata": {},
   "source": [
    "In class we argued that the phase space factor\n",
    "$$\n",
    "\\frac{d^3p}{E}                                             \n",
    " $$\n",
    "is Lorentz invariant.  Show explicitly that if we move from an initial reference frame $F$ to another frame $F'$ moving with velocity $\\beta$ with respect to $F$ that the value of the factor above is in fact Lorentz invariant (you may take the velocity being in n the $z$-direction)"
   ]
  },
  {
   "cell_type": "markdown",
   "metadata": {},
   "source": [
    "write your answer here"
   ]
  },
  {
   "cell_type": "markdown",
   "metadata": {},
   "source": [
    "## Question 2: Invariant Form for Cross Sections (20 points) "
   ]
  },
  {
   "cell_type": "markdown",
   "metadata": {},
   "source": [
    "### Learning objectives\n",
    "In this question you will:\n",
    "\n",
    "- Learn the predicted cross section for  $e^+e^-$ annihilation to leptons  \n",
    "- Re-express the matrix element squared in a Lorentz invariant form"
   ]
  },
  {
   "cell_type": "markdown",
   "metadata": {},
   "source": [
    "In class we discussed the Feynman diagram for the process $$ e^+e^-\\rightarrow \\mu^+\\mu^-$$\n",
    "In the center of mass frame the cross section for unpolarized scattering the cross section is:\n",
    "   $$                                                                         \n",
    "   \\frac{d\\sigma}{d\\Omega} = \\frac{\\alpha^2}{4s} \\left (1+\\cos^2\\theta \\right )                                                                        \n",
    "   $$\n",
    "\n",
    "where $\\alpha = e^2/4\\pi $ is the fine structure constant ($\\frac{1}{137}$) and $\\theta$ is the angle the outgoing $\\mu^-$ makes with the beamline.\n",
    "\n",
    "\n",
    "This expression comes from multiplying the matrix element squared by a LIPS factor.  From Thomson equation 3.50 we know that for the process $a+b\\rightarrow c+d$ in the center-of-mass frame:\n",
    "$$\n",
    "\\frac{d\\sigma}{d\\Omega} = \\frac{1}{64\\pi^2 s} \\frac{p_f^*}{p_i^*} \\left | {\\cal M}\\right |^2\n",
    "$$\n",
    "where $s$ is the Mandelstam variable, and $p_f^*$ ($p_i^*$) is the magnitude of momenta of one of the the final (initial) state particles. \n",
    "\n",
    "The matrix element squared is:\n",
    "\n",
    "   $$                                                                         \n",
    "   \\left < \\left | {\\cal M}\\right |^2\\right > = e^4 \\left (1+\\cos^2\\theta \\right )                                                                     \n",
    "   $$\n",
    "   \n",
    "where the $< >$ is short hand for averaging over initial spin states and summing over final spin states.  Since the phase space is  Lorentz invariant, $\\left < \\left | {\\cal M}\\right |^2\\right >$ must also be Lorentz invariant to ensure that our final answer is invariant.\n",
    "\n",
    "Show that we can rewrite the expression above in Lorentz invariant form\n",
    "$$                                                                     \n",
    "\\left < \\left | {\\cal M}\\right |^2\\right > = 2e^4 \\left ( \\frac{t^2+u^2}{s^2}\\right )                                                               \n",
    "$$\n",
    "\n",
    "where $s$, $t$ amd $u$ are the Mandelstam variables. Assume tha the masses of all  particles can be neglected.\n",
    "Hint:  Write the expressions for s, t and u in terms of the center-of-mass energies and momenta of the $e^+$ and $e^-$ and then evaluate the expression.\n"
   ]
  },
  {
   "cell_type": "markdown",
   "metadata": {},
   "source": [
    "write your answer here"
   ]
  },
  {
   "cell_type": "markdown",
   "metadata": {},
   "source": [
    "## Question 3: Helicity (20 points)"
   ]
  },
  {
   "cell_type": "markdown",
   "metadata": {},
   "source": [
    "Verify that the helicity operator\n",
    "\n",
    "$$\n",
    "\\hat h = \\frac{\\vec\\Sigma \\cdot \\vec p}{2p} = \\frac{1}{2p} \\left ( \n",
    "\\begin{array}{cc} \\vec \\sigma \\cdot \\vec p & 0 \\\\ 0 & \\vec \\sigma \\cdot \\vec p \\end{array}\n",
    "\\right )\n",
    "$$\n",
    "\n",
    "commutes with the Dirac Hamiltonian\n",
    "\n",
    "$$\n",
    "\\hat H = \\vec \\alpha \\cdot \\vec p + \\beta m\n",
    "$$\n",
    "\n",
    "where\n",
    "$$\n",
    "\\vec \\alpha = \\left (\n",
    "\\begin{array}{cc}\n",
    "0 & \\vec \\sigma \\\\ \\vec \\sigma & 0 \\\\\n",
    "\\end{array}\n",
    "\\right ) \\;\\;; {\\mathrm and} \\;\\;\\;\n",
    "\\beta = \\left (\n",
    "\\begin{array}{cc} I & 0 \\\\ 0 & -I\n",
    "\\end{array}\n",
    "\\right )\n",
    "$$"
   ]
  },
  {
   "cell_type": "markdown",
   "metadata": {},
   "source": [
    "Write your answer here"
   ]
  },
  {
   "cell_type": "markdown",
   "metadata": {},
   "source": [
    "## Question 4: Studying the Strong Potential using Quarkonium Spectroscopy  (50 points)"
   ]
  },
  {
   "cell_type": "markdown",
   "metadata": {},
   "source": [
    "### Learning objectives\n",
    "In this question you will:\n",
    "\n",
    "- Explore how quarkium spectroscopy and NR QM can be used to constrain the strong potential on the hadronic length scale\n",
    "- Estimate the value of the ``string tension'' for the strong potential\n"
   ]
  },
  {
   "cell_type": "markdown",
   "metadata": {},
   "source": [
    "  Unlike the quarks in the light mesons, which are relativistic, the velocities of the charm and bottom quarks in quarkonium systems  are small enough that\n",
    "  the mass spectra \n",
    "  are well described using non-relativistic quantum mechanics.\n",
    "\n",
    "  Several phenomenological forms have been used to fit for the QCD potential\n",
    "using quarkonia data.  One common form is \n",
    "discussed in Section 10.8 of Thomson\n",
    "\n",
    "$$\n",
    "V(r) = - \\frac{4}{3} \\frac{\\alpha_S}{r} + \\kappa r\n",
    "$$\n",
    "\n",
    "This form guarantees that the short range potential has the appropriate\n",
    "Couloumb-like dependence and that the long range potential exhibits confinement.\n",
    "The constant $\\kappa$ is often called the ``string tension''.  We'll discuss\n",
    "the reason for choosing this form in more detail in Lecture 19.\n",
    "\n",
    "To make the calculations tractable, we'll use a simpler and less realistic\n",
    "model for the QCD potential \n",
    "\n",
    "$$\n",
    "V(r) = \\kappa r - V_0\n",
    "$$\n",
    "\n",
    "where $\\kappa$ is positive and has units of energy per unit length and $V_0$ is a positive constant with units of energy.\n",
    "\n",
    "  In this problem, you will use the WKB approximation to estimate the\n",
    "the value of $\\kappa$.  While\n",
    "  most undergraduate texts limit their discussion of WKB to one dimension, it\n",
    "  can also be used for 3 dimensional problems with spherically symmetric potentials.  A good discussion of this can be found in Section 10.5 of \n",
    "  \\href{https://courses.maths.ox.ac.uk/pluginfile.php/23933/mod_resource/content/3/Chapter 10.pdf}{Link}\n",
    "As discussed there, the appropriate quantization condition for a state with\n",
    "$\\ell=0$ is:\n",
    "\n",
    "$$\n",
    "\\frac{1}{\\hbar }\\int_0^{r_{max}} p(r) dr = \\left (n+\\frac{3}{4} \\right )\\pi \\;\\;\\;\\; n=0,1,2,...\n",
    "$$ \n",
    "\n",
    "where $r_{max}$  is the classical turning point.\n",
    "\n",
    "Since the standard labeling of energy states for central potential bound states starts with $n=1$ we can rewrite this expression:\n",
    "\n",
    "$$\n",
    "\\frac{1}{\\hbar }\\int_0^{r_{max}} p(r) dr = \\left (n-\\frac{1}{4} \\right )\\pi \\;\\;\\;\\; n=1,2,...\n",
    "$$\n",
    "\n"
   ]
  },
  {
   "cell_type": "markdown",
   "metadata": {},
   "source": [
    "### 4a"
   ]
  },
  {
   "cell_type": "markdown",
   "metadata": {},
   "source": [
    "If $V(r) = \\kappa r - V_0$ and the energy of the particle is $E$, find the value of the classical turning point, $r_{max}$\n"
   ]
  },
  {
   "cell_type": "raw",
   "metadata": {},
   "source": [
    "Write solution here"
   ]
  },
  {
   "cell_type": "markdown",
   "metadata": {},
   "source": [
    "### 4b"
   ]
  },
  {
   "cell_type": "markdown",
   "metadata": {},
   "source": [
    "Use the quantization condition to find a formula for the allowed  energy eigenvalues $E_n$ for the $\\ell=0$ states of quarkonium."
   ]
  },
  {
   "cell_type": "markdown",
   "metadata": {},
   "source": [
    "Write solution here"
   ]
  },
  {
   "cell_type": "markdown",
   "metadata": {},
   "source": [
    "### 4c"
   ]
  },
  {
   "cell_type": "markdown",
   "metadata": {},
   "source": [
    "Using the mass difference between the  $\\Upsilon(2s)$ and $\\Upsilon(1s)$ states, find the value of $\\kappa$ in units of GeV/fm"
   ]
  }
 ],
 "metadata": {
  "kernelspec": {
   "display_name": "Python 3 (ipykernel)",
   "language": "python",
   "name": "python3"
  },
  "language_info": {
   "codemirror_mode": {
    "name": "ipython",
    "version": 3
   },
   "file_extension": ".py",
   "mimetype": "text/x-python",
   "name": "python",
   "nbconvert_exporter": "python",
   "pygments_lexer": "ipython3",
   "version": "3.9.15"
  }
 },
 "nbformat": 4,
 "nbformat_minor": 4
}
